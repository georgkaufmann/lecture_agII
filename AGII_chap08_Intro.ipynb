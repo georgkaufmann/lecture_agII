{
 "cells": [
  {
   "cell_type": "markdown",
   "metadata": {},
   "source": [
    "<table>\n",
    "<tr><td><img style=\"height: 150px;\" src=\"images/geo_hydro1.jpg\"></td>\n",
    "<td bgcolor=\"#FFFFFF\">\n",
    "    <p style=\"font-size: xx-large; font-weight: 900; line-height: 100%\">AG Dynamics of the Earth</p>\n",
    "    <p style=\"font-size: large; color: rgba(0,0,0,0.5);\">Jupyter notebooks</p>\n",
    "    <p style=\"font-size: large; color: rgba(0,0,0,0.5);\">Georg Kaufmann</p>\n",
    "    </td>\n",
    "</tr>\n",
    "</table>"
   ]
  },
  {
   "cell_type": "markdown",
   "metadata": {},
   "source": [
    "# Angewandte Geophysik II: Kap 8: Georadar\n",
    "# Introduction\n",
    "----\n",
    "*Georg Kaufmann,\n",
    "Geophysics Section,\n",
    "Institute of Geological Sciences,\n",
    "Freie Universität Berlin,\n",
    "Germany*"
   ]
  },
  {
   "cell_type": "markdown",
   "metadata": {},
   "source": [
    "We first import libraries we will need. This time, besides the standard `numpy` and `matplotlib`\n",
    "libraries, we need special functions from the `scipy` package."
   ]
  },
  {
   "cell_type": "code",
   "execution_count": 26,
   "metadata": {},
   "outputs": [],
   "source": [
    "# import libraries\n",
    "import matplotlib.pyplot as plt\n",
    "import matplotlib.colors\n",
    "import numpy as np"
   ]
  },
  {
   "cell_type": "markdown",
   "metadata": {},
   "source": [
    "----\n",
    "## Maxwell equations \n",
    "\n",
    "$$\n",
    "\\begin{array}{rcl}\n",
    " \\nabla \\cdot  \\vec{D} & = &q_e \\\\\n",
    " \\nabla \\cdot  \\vec{B} & = & 0 \\\\\n",
    " \\nabla \\times \\vec{E} & = & -\\frac{\\partial \\vec{B}}{\\partial t}  \\\\\n",
    " \\nabla \\times \\vec{H} & = &  \\vec{J}\n",
    "                         + \\frac{\\partial \\vec{D}}{\\partial t} \n",
    "\\end{array}\n",
    "$$\n",
    "with\n",
    "- $\\vec{E}$ [V/m]     elektrische Feldstärke \n",
    "- $\\vec{D}$ [As/m$^2$]     elektrische Verschiebungsdichte \n",
    "- $\\vec{H}$ [A/m]       magnetische Feldstärke \n",
    "- $\\vec{B}$ [Vs/m$^2$=T]       magnetische Flussdichte \n",
    "- $q_e$     [C/m$^3$] elektrische Ladungsdichte\n",
    "- $\\vec{J}$ [A/m$^2$] Stromdichte \n",
    "\n",
    "## Material equations\n",
    "\n",
    "$$\n",
    "\\begin{array}{rcl}\n",
    " \\vec{J} & = & \\sigma_e \\vec{E} \\\\\n",
    " \\vec{D} & = & \\epsilon \\vec{E} \\\\\n",
    " \\vec{B} & = & \\mu \\vec{H}\n",
    " \\end{array}\n",
    "$$\n",
    "with\n",
    "- $\\sigma_e$ [S/m] elektrische Leitfähigkeit\n",
    "- $\\epsilon$ [As/Vm]   elektrische Permittivität\n",
    "- $\\mu$      [Vs/Am]   magnetische Permeabilität\n"
   ]
  },
  {
   "cell_type": "markdown",
   "metadata": {},
   "source": [
    "----\n",
    "## Telegraph equations\n",
    "\n",
    "Use rotation of third Maxwell equation, insert ...\n",
    "$$\n",
    "\\begin{array}{rcl}\n",
    "\\nabla \\times \\nabla \\times \\vec{E} & = & -\\frac{\\partial}{\\partial t} \\nabla \\times  \\vec{B} \\\\ \n",
    "\\nabla \\times \\nabla \\times \\vec{E} & = & -\\mu \\frac{\\partial}{\\partial t} \\nabla \\times  \\vec{H} \\\\ \n",
    "\\nabla \\times \\nabla \\times \\vec{E} & = &  -\\mu \\frac{\\partial}{\\partial t} \\vec{J}\n",
    "                                                                  -\\mu \\frac{\\partial^2}{\\partial t^2} \\vec{D} \\\\ \n",
    "\\nabla \\times \\nabla \\times \\vec{E} & = & -\\mu \\sigma_e \\frac{\\partial}{\\partial t} \\vec{E}\n",
    "                                                                 -\\mu \\epsilon \\frac{\\partial^2}{\\partial t^2} \\vec{E} \\\\ \n",
    "\\nabla \\nabla \\cdot \\vec{E} - \\nabla^2 \\vec{E} & = & -\\mu \\sigma_e \\frac{\\partial}{\\partial t} \\vec{E}\n",
    "                                                                 -\\mu \\epsilon \\frac{\\partial^2}{\\partial t^2} \\vec{E} \\\\ \n",
    "\\end{array}\n",
    "$$\n",
    "\n",
    "We assume $\\nabla \\cdot \\vec{E}=0$ outside of antenna, thus we arrive at the\n",
    "**telegraph equations**:\n",
    "$$\\fbox{$\n",
    "\\begin{array}{rcl}\n",
    "\\nabla^2 \\vec{E} \n",
    "&=& \\mu \\epsilon \\frac{\\partial^2}{\\partial t^2} \\vec{E} \n",
    "+ \\mu \\sigma_e \\frac{\\partial}{\\partial t} \\vec{E} \\\\\n",
    "\\nabla^2 \\vec{B} \n",
    "&=& \\mu \\epsilon \\frac{\\partial^2}{\\partial t^2} \\vec{B} \n",
    "+ \\mu \\sigma_e \\frac{\\partial}{\\partial t} \\vec{B}\n",
    "\\end{array}\n",
    "$}$$"
   ]
  },
  {
   "cell_type": "markdown",
   "metadata": {},
   "source": [
    "... done"
   ]
  }
 ],
 "metadata": {
  "kernelspec": {
   "display_name": "Python 3 (ipykernel)",
   "language": "python",
   "name": "python3"
  },
  "language_info": {
   "codemirror_mode": {
    "name": "ipython",
    "version": 3
   },
   "file_extension": ".py",
   "mimetype": "text/x-python",
   "name": "python",
   "nbconvert_exporter": "python",
   "pygments_lexer": "ipython3",
   "version": "3.11.3"
  }
 },
 "nbformat": 4,
 "nbformat_minor": 4
}
