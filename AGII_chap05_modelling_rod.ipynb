{
 "cells": [
  {
   "cell_type": "markdown",
   "metadata": {},
   "source": [
    "<table>\n",
    "<tr><td><img style=\"height: 150px;\" src=\"images/geo_hydro1.jpg\"></td>\n",
    "<td bgcolor=\"#FFFFFF\">\n",
    "    <p style=\"font-size: xx-large; font-weight: 900; line-height: 100%\">AG Dynamics of the Earth</p>\n",
    "    <p style=\"font-size: large; color: rgba(0,0,0,0.5);\">Juypter notebooks</p>\n",
    "    <p style=\"font-size: large; color: rgba(0,0,0,0.5);\">Georg Kaufmann</p>\n",
    "    </td>\n",
    "</tr>\n",
    "</table>"
   ]
  },
  {
   "cell_type": "markdown",
   "metadata": {},
   "source": [
    "# Angewandte Geophysik II: Kap 5: Gravimetrie\n",
    "# Schweremodellierung\n",
    "----\n",
    "*Georg Kaufmann,\n",
    "Geophysics Section,\n",
    "Institute of Geological Sciences,\n",
    "Freie Universität Berlin,\n",
    "Germany*"
   ]
  },
  {
   "cell_type": "code",
   "execution_count": 1,
   "metadata": {},
   "outputs": [],
   "source": [
    "import numpy as np\n",
    "import matplotlib.pyplot as plt\n",
    "import ipywidgets as widgets"
   ]
  },
  {
   "cell_type": "code",
   "execution_count": 19,
   "metadata": {},
   "outputs": [],
   "source": [
    "# define profile\n",
    "xmin  = -400.\n",
    "xmax  = +400.\n",
    "xstep = 101\n",
    "tiny  = 1.e-10\n",
    "x = np.linspace(xmin,xmax,xstep) + tiny"
   ]
  },
  {
   "cell_type": "code",
   "execution_count": 20,
   "metadata": {},
   "outputs": [],
   "source": [
    "def boug_sphere(x,D=100.,R=50.,drho=500.):\n",
    "    G    = 6.672e-11      # m^3/kg/s^2\n",
    "    # Bouguer gravity of solid sphere\n",
    "    boug = 4./3.*np.pi*G*drho * R**3*D/(x**2+D**2)**(3/2)\n",
    "    return boug"
   ]
  },
  {
   "cell_type": "code",
   "execution_count": 21,
   "metadata": {},
   "outputs": [],
   "source": [
    "def boug_cylinder(x,D=100.,R=50.,drho=500.):\n",
    "    G    = 6.672e-11      # m^3/kg/s^2\n",
    "    # Bouguer gravity of solid horizontal cylinder\n",
    "    boug = 2.*np.pi*G*drho * R**2*D/(x**2+D**2)\n",
    "    return boug"
   ]
  },
  {
   "cell_type": "markdown",
   "metadata": {},
   "source": [
    "## Inclined rod\n",
    "\n",
    "$$\n",
    "\\begin{array}{rcl}\n",
    " g(x) & = & {{G \\pi R^2 \\Delta\\rho}\\over{x \\sin\\alpha}}\n",
    "         \\left[\n",
    "         {{x + D \\cot\\alpha}\\over{\\sqrt{(D \\sin^{-1} \\alpha)^2 + 2 x D \\cot\\alpha + x^2}}}\n",
    "       -  {{x + D\\cot\\alpha + L \\cos\\alpha}\\over{\\sqrt{(L+D \\sin^{-1}\\alpha)^2 + x^2 + 2x(L\\cos\\alpha + D\\cot\\alpha)}}}\n",
    "     \\right]\n",
    "\\end{array}\n",
    "$$"
   ]
  },
  {
   "cell_type": "code",
   "execution_count": 22,
   "metadata": {},
   "outputs": [],
   "source": [
    "def boug_rod(x,D=50.,R=50.,L=200.,alpha=90.,drho=500.):\n",
    "    # Bouguer gravity of inclined rod\n",
    "    G    = 6.672e-11      # m^3/kg/s^2\n",
    "    d2r = np.pi/180.\n",
    "    boug = (\n",
    "    G*np.pi*R**2*drho / ((x)*np.sin(alpha*d2r))\n",
    "    *(\n",
    "    (x + D/np.tan(alpha*d2r)) / np.sqrt(D**2/np.sin(alpha*d2r)**2 + 2.*x*D/np.tan(alpha*d2r) + x**2)\n",
    "    -(x + D/np.tan(alpha*d2r) + L*np.cos(alpha*d2r)) / np.sqrt((L+D/np.sin(alpha*d2r))**2 + x**2\n",
    "                              + 2.*x*(L*np.cos(alpha*d2r)+D/np.tan(alpha*d2r)))\n",
    "    ))         \n",
    "    return boug"
   ]
  },
  {
   "cell_type": "code",
   "execution_count": 23,
   "metadata": {},
   "outputs": [],
   "source": [
    "def plot_rod(f1=False,f2=False,f3=False,f4=False,f5=False):\n",
    "    fig,axs = plt.subplots(2,1,figsize=(12,8))\n",
    "\n",
    "    axs[0].set_xlim([-400,400])\n",
    "    axs[0].set_xticks([x for x in np.linspace(-300,300,7)])\n",
    "    #axs[0].set_xlabel('Profile [m]')\n",
    "    axs[0].set_ylim([0,0.5])\n",
    "    axs[0].set_yticks([y for y in np.linspace(0,0.5,6)])\n",
    "    axs[0].set_ylabel('Gravity [mGal]')\n",
    "    axs[0].text(-350,0.45,'R=50m')\n",
    "    axs[0].text(-350,0.40,'D=50m')\n",
    "    axs[0].plot(x,1.e5*boug_sphere(x),linewidth=1.0,linestyle=':',color='black',label='sphere')\n",
    "    if (f1):\n",
    "        axs[0].plot(x,1.e5*boug_rod(x),linewidth=2.0,linestyle='-',color='red',label='l=200m,$\\\\alpha$=90')\n",
    "    if (f2):\n",
    "        axs[0].plot(x,1.e5*boug_rod(x,L=100),linewidth=2.0,linestyle='--',color='red',label='l=100m,$\\\\alpha$=90')    \n",
    "    if (f3):\n",
    "        axs[0].plot(x,1.e5*boug_rod(x,L=50),linewidth=2.0,linestyle=':',color='red',label='l=50m,$\\\\alpha$=90')\n",
    "    if (f4):\n",
    "        axs[0].plot(x,1.e5*boug_rod(x,L=50,alpha=55),linewidth=2.0,linestyle='-',color='green',label='l=50m,$\\\\alpha$=45')\n",
    "    if (f5):\n",
    "        axs[0].plot(x,1.e5*boug_rod(x,L=50,alpha=155),linewidth=2.0,linestyle='-',color='blue',label='l=50m,$\\\\alpha$=135')\n",
    "    axs[0].legend()\n",
    "\n",
    "    axs[1].set_xlim([-400,400])\n",
    "    axs[1].set_xticks([x for x in np.linspace(-300,300,7)])\n",
    "    axs[1].set_xlabel('Profile [m]')\n",
    "    axs[1].set_ylim([250,0])\n",
    "    axs[1].set_yticks([y for y in np.linspace(0.,200.,5)])\n",
    "    axs[1].set_ylabel('Depth [m]')\n",
    "    angle = [theta for theta in np.linspace(0,2*np.pi,41)]\n",
    "    R1=50.;D1=100.\n",
    "    R2=50.;D2=80.\n",
    "    R3=50.;D3=120.\n",
    "    R4=40.;D4=100.\n",
    "    R5=60.;D5=100.\n",
    "    if (f1):\n",
    "        axs[1].plot(R1*np.cos(angle),D1+R1*np.sin(angle),linewidth=2.0,linestyle='-',color='red')\n",
    "    if (f2):\n",
    "        axs[1].plot(R2*np.cos(angle),D2+R2*np.sin(angle),linewidth=2.0,linestyle='--',color='red')\n",
    "    if (f3):\n",
    "        axs[1].plot(R3*np.cos(angle),D3+R3*np.sin(angle),linewidth=2.0,linestyle=':',color='red',label='R=50m, D=120m')\n",
    "    if (f4):\n",
    "        axs[1].plot(R4*np.cos(angle),D4+R4*np.sin(angle),linewidth=2.0,linestyle='-',color='green',label='R=40m, D=100m')\n",
    "    if (f5):\n",
    "        axs[1].plot(R5*np.cos(angle),D5+R5*np.sin(angle),linewidth=2.0,linestyle='-',color='blue',label='R=60m, D=100m')"
   ]
  },
  {
   "cell_type": "code",
   "execution_count": 24,
   "metadata": {},
   "outputs": [
    {
     "data": {
      "application/vnd.jupyter.widget-view+json": {
       "model_id": "4eb1de43728e456d8fb84ae11b3a71c3",
       "version_major": 2,
       "version_minor": 0
      },
      "text/plain": [
       "HBox(children=(VBox(children=(Checkbox(value=True, description='eins'), Checkbox(value=False, description='zwe…"
      ]
     },
     "metadata": {},
     "output_type": "display_data"
    }
   ],
   "source": [
    "# call interactive module\n",
    "w = dict(\n",
    "f1=widgets.Checkbox(value=True,description='eins',continuous_update=False,disabled=False),\n",
    "#a1=widgets.FloatSlider(min=0.,max=2.,step=0.1,value=1.0),\n",
    "f2=widgets.Checkbox(value=False,description='zwei',continuous_update=False,disabled=False),\n",
    "f3=widgets.Checkbox(value=False,description='drei',continuous_update=False,disabled=False),\n",
    "f4=widgets.Checkbox(value=False,description='vier',continuous_update=False,disabled=False),\n",
    "f5=widgets.Checkbox(value=False,description='fuenf',continuous_update=False,disabled=False))\n",
    "output = widgets.interactive_output(plot_rod, w)\n",
    "box = widgets.HBox([widgets.VBox([*w.values()]), output])\n",
    "display(box)"
   ]
  },
  {
   "cell_type": "code",
   "execution_count": null,
   "metadata": {},
   "outputs": [],
   "source": [
    "plot_rod(f1=True)"
   ]
  },
  {
   "cell_type": "markdown",
   "metadata": {},
   "source": [
    "... done"
   ]
  }
 ],
 "metadata": {
  "kernelspec": {
   "display_name": "Python 3",
   "language": "python",
   "name": "python3"
  },
  "language_info": {
   "codemirror_mode": {
    "name": "ipython",
    "version": 3
   },
   "file_extension": ".py",
   "mimetype": "text/x-python",
   "name": "python",
   "nbconvert_exporter": "python",
   "pygments_lexer": "ipython3",
   "version": "3.7.3"
  }
 },
 "nbformat": 4,
 "nbformat_minor": 1
}
