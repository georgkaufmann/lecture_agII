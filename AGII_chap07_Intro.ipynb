{
 "cells": [
  {
   "cell_type": "markdown",
   "metadata": {},
   "source": [
    "<table>\n",
    "<tr><td><img style=\"height: 150px;\" src=\"images/geo_hydro1.jpg\"></td>\n",
    "<td bgcolor=\"#FFFFFF\">\n",
    "    <p style=\"font-size: xx-large; font-weight: 900; line-height: 100%\">AG Dynamics of the Earth</p>\n",
    "    <p style=\"font-size: large; color: rgba(0,0,0,0.5);\">Jupyter notebooks</p>\n",
    "    <p style=\"font-size: large; color: rgba(0,0,0,0.5);\">Georg Kaufmann</p>\n",
    "    </td>\n",
    "</tr>\n",
    "</table>"
   ]
  },
  {
   "cell_type": "markdown",
   "metadata": {},
   "source": [
    "# Angewandte Geophysik II: Kap 7: Geoelectrics\n",
    "# Introduction\n",
    "----\n",
    "*Georg Kaufmann,\n",
    "Geophysics Section,\n",
    "Institute of Geological Sciences,\n",
    "Freie Universität Berlin,\n",
    "Germany*"
   ]
  },
  {
   "cell_type": "markdown",
   "metadata": {},
   "source": [
    "We first import libraries we will need. This time, besides the standard `numpy` and `matplotlib`\n",
    "libraries, we need special functions from the `scipy` package."
   ]
  },
  {
   "cell_type": "code",
   "execution_count": 26,
   "metadata": {},
   "outputs": [],
   "source": [
    "# import libraries\n",
    "import matplotlib.pyplot as plt\n",
    "import matplotlib.colors\n",
    "import numpy as np"
   ]
  },
  {
   "cell_type": "markdown",
   "metadata": {},
   "source": [
    "----\n",
    "## Maxwell equations \n",
    "\n",
    "$$\n",
    "\\begin{array}{rcl}\n",
    " \\nabla \\cdot  \\vec{D} & = &q_e \\\\\n",
    " \\nabla \\cdot  \\vec{B} & = & 0 \\\\\n",
    " \\nabla \\times \\vec{E} & = & -\\frac{\\partial \\vec{B}}{\\partial t}  \\\\\n",
    " \\nabla \\times \\vec{H} & = &  \\vec{J}\n",
    "                         + \\frac{\\partial \\vec{D}}{\\partial t} \n",
    "\\end{array}\n",
    "$$\n",
    "with\n",
    "- $\\vec{E}$ [V/m]     elektrische Feldstärke \n",
    "- $\\vec{D}$ [As/m$^2$]     elektrische Verschiebungsdichte \n",
    "- $\\vec{H}$ [A/m]       magnetische Feldstärke \n",
    "- $\\vec{B}$ [Vs/m$^2$=T]       magnetische Flussdichte \n",
    "- $q_e$     [C/m$^3$] elektrische Ladungsdichte\n",
    "- $\\vec{J}$ [A/m$^2$] Stromdichte \n",
    "\n",
    "## Material equations\n",
    "\n",
    "$$\n",
    "\\begin{array}{rcl}\n",
    " \\vec{J} & = & \\sigma_e \\vec{E} \\\\\n",
    " \\vec{D} & = & \\epsilon \\vec{E} \\\\\n",
    " \\vec{B} & = & \\mu \\vec{H}\n",
    " \\end{array}\n",
    "$$\n",
    "with\n",
    "- $\\sigma_e$ [S/m] elektrische Leitfähigkeit\n",
    "- $\\epsilon$ [As/Vm]   elektrische Permittivität\n",
    "- $\\mu$      [Vs/Am]   magnetische Permeabilität\n"
   ]
  },
  {
   "cell_type": "markdown",
   "metadata": {},
   "source": [
    "## Electrical potential\n",
    "\n",
    "We derive the **electrical potential** $U$ [V] from the two Maxwell equations describing electrical field $\\vec{E}$\n",
    "and Ohm's law $\\vec{J}$:\n",
    "$$\n",
    "\\begin{array}{rcl}\n",
    " \\nabla \\cdot  \\vec{E} & = &\\frac{q_e}{\\epsilon} \\\\\n",
    " \\nabla \\times \\vec{E} & = & -\\frac{\\partial \\vec{B}}{\\partial t} \\\\\n",
    " \\vec{J} & = & \\sigma_e \\vec{E}\n",
    "\\end{array}\n",
    "$$\n",
    "\n",
    "**Stationary currents**\n",
    "\n",
    "For time-**in**dependent current flow, we have $\\frac{\\partial \\vec{B}}{\\partial t}=0$, thus\n",
    "$\\nabla \\times \\vec{E} = 0$\n",
    "and therefore we can define the scalar potential $U$ as:\n",
    "$$\n",
    "\\vec{E} = - \\nabla U\n",
    "$$\n",
    "Inserting Ohm's law results in\n",
    "$$\n",
    "\\vec{J} = - \\sigma_e \\nabla U\n",
    "$$\n",
    "\n",
    "**No sources**\n",
    "\n",
    "Outside of electrical sources, we have $q_e=0$, thus $\\nabla \\cdot  \\vec{E}=0$.\n",
    "Inserting Ohm's law results in\n",
    "$$\n",
    "\\nabla \\cdot \\vec{J} = 0\n",
    "$$\n",
    "\n",
    "Inserting the definiton of current density above, we find, that $U$ fulfils the **Laplace equation**:\n",
    "$$\\fbox{$\n",
    "\\nabla \\cdot \\sigma_e \\nabla U = 0\n",
    "$}$$"
   ]
  },
  {
   "cell_type": "markdown",
   "metadata": {
    "tags": []
   },
   "source": [
    "----\n",
    "## Single electrode\n",
    "\n",
    "A solution for the potental $U$ for a **single electrode** on the surface is:\n",
    "$$\\fbox{$\n",
    "U(r) = \\frac{I \\rho_e}{2\\pi r}\n",
    "$}$$\n",
    "Here, $r$ [m] is the radila distance (polar coordinates useed)."
   ]
  },
  {
   "cell_type": "markdown",
   "metadata": {},
   "source": [
    "... done"
   ]
  }
 ],
 "metadata": {
  "kernelspec": {
   "display_name": "Python 3 (ipykernel)",
   "language": "python",
   "name": "python3"
  },
  "language_info": {
   "codemirror_mode": {
    "name": "ipython",
    "version": 3
   },
   "file_extension": ".py",
   "mimetype": "text/x-python",
   "name": "python",
   "nbconvert_exporter": "python",
   "pygments_lexer": "ipython3",
   "version": "3.11.3"
  }
 },
 "nbformat": 4,
 "nbformat_minor": 4
}
