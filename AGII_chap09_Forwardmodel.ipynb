{
 "cells": [
  {
   "cell_type": "markdown",
   "metadata": {},
   "source": [
    "<table>\n",
    "<tr><td><img style=\"height: 150px;\" src=\"images/geo_hydro1.jpg\"></td>\n",
    "<td bgcolor=\"#FFFFFF\">\n",
    "    <p style=\"font-size: xx-large; font-weight: 900; line-height: 100%\">AG Dynamics of the Earth</p>\n",
    "    <p style=\"font-size: large; color: rgba(0,0,0,0.5);\">Jupyter notebooks</p>\n",
    "    <p style=\"font-size: large; color: rgba(0,0,0,0.5);\">Georg Kaufmann</p>\n",
    "    </td>\n",
    "</tr>\n",
    "</table>"
   ]
  },
  {
   "cell_type": "markdown",
   "metadata": {},
   "source": [
    "# Angewandte Geophysik II: Kap 9: Filterung\n",
    "## Vorwärtsmodellierung\n",
    "----\n",
    "*Georg Kaufmann,\n",
    "Geophysics Section,\n",
    "Institute of Geological Sciences,\n",
    "Freie Universität Berlin,\n",
    "Germany*"
   ]
  },
  {
   "cell_type": "markdown",
   "metadata": {},
   "source": [
    "# Create 3D forward model with spheres\n",
    "\n",
    "In this notebook, we define spheres as geometries for forward modelling for **gravity** and\n",
    "**magnetic** predictions."
   ]
  },
  {
   "cell_type": "code",
   "execution_count": 1,
   "metadata": {},
   "outputs": [],
   "source": [
    "import numpy as np\n",
    "import matplotlib.pyplot as plt"
   ]
  },
  {
   "cell_type": "code",
   "execution_count": 2,
   "metadata": {},
   "outputs": [],
   "source": [
    "def change_fontsize(SMALL_SIZE=15,MEDIUM_SIZE=20,BIGGER_SIZE=25):\n",
    "    \"\"\"\n",
    "    re-set matplotlib fonts with three different sizes:\n",
    "    SMALL_SIZE=15 (default)\n",
    "    MEDIUM_SIZE=20 (default)\n",
    "    BIGGER_SIZE=25 (default)\n",
    "    \"\"\"\n",
    "    plt.rc('font', size=SMALL_SIZE)          # controls default text sizes\n",
    "    plt.rc('axes', titlesize=SMALL_SIZE)     # fontsize of the axes title\n",
    "    plt.rc('axes', labelsize=SMALL_SIZE)    # fontsize of the x and y labels\n",
    "    plt.rc('xtick', labelsize=SMALL_SIZE)    # fontsize of the tick labels\n",
    "    plt.rc('ytick', labelsize=SMALL_SIZE)    # fontsize of the tick labels\n",
    "    plt.rc('legend', fontsize=SMALL_SIZE)    # legend fontsize\n",
    "    plt.rc('figure', titlesize=BIGGER_SIZE)  # fontsize of the figure title\n",
    "    \n",
    "change_fontsize()"
   ]
  },
  {
   "cell_type": "markdown",
   "metadata": {},
   "source": [
    "## Define forward modelling operators\n",
    "\n",
    "----\n",
    "### Gravity\n",
    "\n",
    "The three components of the gravity vector are:\n",
    "$$\n",
    "\\begin{array}{rcl}\n",
    "\\Delta g_x    & = & \\frac{4}{3} \\pi G \\Delta \\rho R^3 \n",
    "                     \\frac{x_p-x_o}{((x_p-x_o)^2 + (y_p-y_o)^2 + (z_p-z_o)^2)^{\\frac{3}{2}}}\\\\\n",
    "\\Delta g_y    & = & \\frac{4}{3} \\pi G \\Delta \\rho R^3 \n",
    "                     \\frac{y_p-y_o}{((x_p-x_o)^2 + (y_p-y_o)^2 + (z_p-z_o)^2)^{\\frac{3}{2}}}\\\\\n",
    "\\Delta g_z    & = & \\frac{4}{3} \\pi G \\Delta \\rho R^3 \n",
    "                     \\frac{z_p-z_o}{((x_p-x_o)^2 + (y_p-y_o)^2 + (z_p-z_o)^2)^{\\frac{3}{2}}}\n",
    "\\end{array}\n",
    "$$\n",
    "Here, $G=6.672 \\times 10^{-11}$ m$^3$/kg/s$^2$ is the gravitational constant,\n",
    "$R$ [m] the radius of the sphere, $\\rho$ [kg/$^3$] the density of the sphere,\n",
    "$(x_o,y_o,z_o)$ [m] the coordinate of the observation point, and\n",
    "$(x_p,y_p,z_p)$ [m] the coordinate of the center of the sphere.\n"
   ]
  },
  {
   "cell_type": "code",
   "execution_count": 3,
   "metadata": {},
   "outputs": [],
   "source": [
    "def grav_sphere(xo,yo,zo,xp,yp,zp,radius,rho):\n",
    "    \"\"\"\n",
    "    !-----------------------------------------------------------------------\n",
    "    ! Bouguer-Anomaly for a buried sphere\n",
    "    ! x-axis is north, z-axis vertically down\n",
    "    !\n",
    "    ! Input parameters:\n",
    "    ! xo,yo,zo [m]       - location of observation point\n",
    "    ! xp,yp,zp [m]       - location of center of sphere\n",
    "    ! rho [kg/m^3]       - density difference\n",
    "    ! radius [m]         - radius of sphere\n",
    "    !\n",
    "    ! Output parameter:\n",
    "    ! gx,gy,gz [mGal]    - gravity component at observation point\n",
    "    !\n",
    "    ! from:\n",
    "    ! Blakeley (1995): Potential theory in gravity & magnetic applications\n",
    "    !-----------------------------------------------------------------------\n",
    "    \"\"\"\n",
    "    G       = 6.672e-11     # m^3/kg/s^2\n",
    "    si2mgal = 1.e5          # m/s^2 -> mGal\n",
    "\n",
    "    rx   = xo - xp\n",
    "    ry   = yo - yp\n",
    "    rz   = zo - zp\n",
    "    r    = rx**2 + ry**2 + rz**2\n",
    "    if (r == 0):\n",
    "        print ('grav_sphere: obs. point in centrum of sphere')\n",
    "    r    = np.sqrt(r)\n",
    "    r3   = r**3\n",
    "    mass = 4./3.*np.pi*rho*radius**3\n",
    "    gx = -G * mass * rx/ r3 * si2mgal\n",
    "    gy = -G * mass * ry/ r3 * si2mgal\n",
    "    gz = -G * mass * rz/ r3 * si2mgal\n",
    "    return gx,gy,gz"
   ]
  },
  {
   "cell_type": "code",
   "execution_count": 4,
   "metadata": {},
   "outputs": [],
   "source": [
    "def grav_box(xo,yo,zo,x1,x2,y1,y2,z1,z2,rho):\n",
    "    \"\"\"\n",
    "    !-----------------------------------------------------------------------\n",
    "    ! Bouguer-Anomaly for a rectangular box\n",
    "    !\n",
    "    ! Input parameters:\n",
    "    ! xo,yo,zo [m]       - location of observation point\n",
    "    ! x1,x2 [m]          - location of left and right x-coordinates\n",
    "    ! y1,y2 [m]          - location of left and right y-coordinates\n",
    "    ! z1,z2 [m]          - location of top and bottom z-coordinates\n",
    "    ! rho [kg/m^3]       - density difference\n",
    "    !\n",
    "    ! Output parameter:\n",
    "    ! gz [mGal]          - vertical gravity at observation point\n",
    "    !\n",
    "    ! from: \n",
    "    ! Blakeley (1995): Potential theory in gravity & magnetic applications\n",
    "    !-----------------------------------------------------------------------\n",
    "    \"\"\"\n",
    "    G       = 6.672e-11     # m^3/kg/s^2\n",
    "    si2mgal = 1.e5          # m/s^2 -> mGal\n",
    "    isign = np.array([-1,1])\n",
    "    x    = np.zeros(2); y = np.zeros(2); z = np.zeros(2)\n",
    "    x[0] = xo - x1\n",
    "    x[1] = xo - x2\n",
    "    y[0] = yo - y1\n",
    "    y[1] = yo - y2\n",
    "    z[0] = zo - z1\n",
    "    z[1] = zo - z2\n",
    "    gsum  = 0.\n",
    "    for i in range(2):\n",
    "        for j in range(2):\n",
    "            for k in range(2):\n",
    "                rijk = np.sqrt(x[i]**2 + y[j]**2 + z[k]**2)\n",
    "                ijk  = isign[i] * isign[j] * isign[k]\n",
    "                arg1 = np.arctan2((x[i]*y[j]),(z[k]*rijk))\n",
    "                if (arg1 < 0.):\n",
    "                    arg1 = arg1 + 2.*np.pi\n",
    "                arg2 = rijk + y[j]\n",
    "                arg3 = rijk + x[i]\n",
    "                if (arg2 < 0.):\n",
    "                    print ('grav_box: arg2 bad field point')\n",
    "                if (arg3 < 0.):\n",
    "                    print ('grav_box: arg3 bad field point')\n",
    "                arg2 = np.log(arg2)\n",
    "                arg3 = np.log(arg3)\n",
    "                gsum  = gsum + float(ijk)*(z[k]*arg1 - x[i]*arg2 - y[j]*arg3)\n",
    "\n",
    "    gz = G * rho * gsum * si2mgal\n",
    "    return gz"
   ]
  },
  {
   "cell_type": "markdown",
   "metadata": {},
   "source": [
    "**Compare sphere and box:**\n",
    "\n",
    "A box with side length $a$, $b$, and $c$ is defined by the volume $V_b=a b c$.\n",
    "\n",
    "From the volume of a sphere, $V_s={{4}\\over{3}} \\pi R^3$, the equivalent sphere radius follows from\n",
    "$V_b=V_s$:\n",
    "$$\n",
    "R^3 = \\frac{3 a b c}{4 \\pi} \n",
    "$$\n",
    "\n",
    "Using $a=b=c=2$ m, results in $R \\simeq 1.24$ m."
   ]
  },
  {
   "cell_type": "code",
   "execution_count": 6,
   "metadata": {},
   "outputs": [
    {
     "data": {
      "text/plain": [
       "<matplotlib.legend.Legend at 0x1364ee490>"
      ]
     },
     "execution_count": 6,
     "metadata": {},
     "output_type": "execute_result"
    },
    {
     "data": {
      "image/png": "[encoded data removed]",
      "text/plain": [
       "<Figure size 432x288 with 1 Axes>"
      ]
     },
     "metadata": {
      "needs_background": "light"
     },
     "output_type": "display_data"
    }
   ],
   "source": [
    "x = np.linspace(-10,10,101)\n",
    "boug_sphere = np.array([])\n",
    "boug_box    = np.array([])\n",
    "for i in range(len(x)):\n",
    "    gx,gy,gz = grav_sphere(xo=x[i],yo=0,zo=0,xp=0,yp=0,zp=1.5,radius=1.24,rho=500)\n",
    "    boug_sphere = np.append(boug_sphere,gz)\n",
    "    gz = grav_box(xo=x[i],yo=0,zo=0,x1=-1,x2=1,y1=-1,y2=1,z1=0.5,z2=2.5,rho=500)\n",
    "    boug_box = np.append(boug_box,gz)\n",
    "    \n",
    "plt.plot(x,boug_sphere,lw=3,label='sphere')\n",
    "plt.plot(x,boug_box,label='box')\n",
    "plt.legend()"
   ]
  },
  {
   "cell_type": "markdown",
   "metadata": {},
   "source": [
    "**Compare mass below and above observation point:**"
   ]
  },
  {
   "cell_type": "code",
   "execution_count": 7,
   "metadata": {},
   "outputs": [
    {
     "data": {
      "text/plain": [
       "<matplotlib.legend.Legend at 0x1365cd5e0>"
      ]
     },
     "execution_count": 7,
     "metadata": {},
     "output_type": "execute_result"
    },
    {
     "data": {
      "image/png": "[encoded data removed]",
      "text/plain": [
       "<Figure size 432x288 with 1 Axes>"
      ]
     },
     "metadata": {
      "needs_background": "light"
     },
     "output_type": "display_data"
    }
   ],
   "source": [
    "x = np.linspace(-10,10,101)\n",
    "boug_sphere_below = np.array([])\n",
    "boug_sphere_above = np.array([])\n",
    "for i in range(len(x)):\n",
    "    gx,gy,gz = grav_sphere(xo=x[i],yo=0,zo=0,xp=0,yp=0,zp=1.5,radius=1.24,rho=500)\n",
    "    boug_sphere_below = np.append(boug_sphere_below,gz)\n",
    "    gx,gy,gz = grav_sphere(xo=x[i],yo=0,zo=0,xp=0,yp=0,zp=-1.5,radius=1.24,rho=500)\n",
    "    boug_sphere_above = np.append(boug_sphere_above,gz)\n",
    "    \n",
    "plt.plot(x,boug_sphere_below,label='below')\n",
    "plt.plot(x,boug_sphere_above,label='above')\n",
    "plt.legend()"
   ]
  },
  {
   "cell_type": "code",
   "execution_count": null,
   "metadata": {},
   "outputs": [],
   "source": [
    "print('below')\n",
    "gx,gy,gz = grav_sphere(xo=0,yo=0,zo=0,xp=0,yp=0,zp=1.5,radius=1.,rho=500)\n",
    "print (gx,gy,gz)\n",
    "gz = grav_box(xo=0,yo=0,zo=0,x1=-1,x2=1,y1=-1,y2=1,z1=1,z2=2,rho=500)\n",
    "print (gz)\n",
    "\n",
    "print('above')\n",
    "gx,gy,gz = grav_sphere(xo=0,yo=0,zo=0,xp=0,yp=0,zp=-1.5,radius=1.,rho=500)\n",
    "print (gx,gy,gz)\n",
    "gz = grav_box(xo=0,yo=0,zo=0,x1=-1,x2=1,y1=-1,y2=1,z1=-1,z2=-2,rho=500)\n",
    "print (gz)"
   ]
  },
  {
   "cell_type": "markdown",
   "metadata": {},
   "source": [
    "----\n",
    "### Magnetics\n",
    "\n",
    "The three components of the magnetic induction $\\vec{B}$ and the total-field anomaly $T$ are:\n",
    "$$\n",
    "\\begin{array}{rcl}\n",
    " \\Delta B_x    & = & \\frac{\\mu_0}{4\\pi} \\frac{{4 \\over 3} \\pi R^3 M}{r^5}\n",
    "                     \\left( 3(\\hat{m}_x r_x + \\hat{m}_y r_y + \\hat{m}_z r_z) r_x - r^2 m_x\\right)\\\\\n",
    " \\Delta B_y    & = & \\frac{\\mu_0}{4\\pi} \\frac{{4 \\over 3} \\pi R^3 M}{r^5}\n",
    "                     \\left( 3(\\hat{m}_x r_x + \\hat{m}_y r_y + \\hat{m}_z r_z) r_y - r^2 m_y\\right)\\\\\n",
    " \\Delta B_z    & = & \\frac{\\mu_0}{4\\pi} \\frac{{4 \\over 3} \\pi R^3 M}{r^5}\n",
    "                     \\left( 3(\\hat{m}_x r_x + \\hat{m}_y r_y + \\hat{m}_z r_z) r_z - r^2 m_z\\right)\\\\\n",
    " \\Delta T      & = & \\hat{B}_x \\Delta B_x + \\hat{B}_y \\Delta B_y + \\hat{B}_z \\Delta B_z\n",
    "\\end{array}\n",
    "$$\n",
    "Here, $\\mu_0 = 10^{-7}$ Vs/Am is the permeability of vacuum,\n",
    "$R$ [m] the radius of the sphere, $M$ [A/m] the magnetisation of the sphere,\n",
    "$(x_o,y_o,z_o)$ [m] the coordinate of the observation point, and\n",
    "$(x_p,y_p,z_p)$ [m] the coordinate of the center of the sphere."
   ]
  },
  {
   "cell_type": "code",
   "execution_count": 8,
   "metadata": {},
   "outputs": [],
   "source": [
    "def dircos(incl,decl,azim):\n",
    "    \"\"\"\n",
    "    !-----------------------------------------------------------------------\n",
    "    ! Input parameters:\n",
    "    ! incl [degrees]     - inclination positive below horizontal\n",
    "    ! decl [degrees]     - declination positive east from north\n",
    "    ! azim [degrees]     - azimuth of x axis in degrees positive east to north\n",
    "    ! Output parameter:\n",
    "    ! a,b,c              - three direction cosines\n",
    "    !\n",
    "    ! from: \n",
    "    ! Blakeley (1995): Potential theory in gravity & magnetic applications\n",
    "    !-----------------------------------------------------------------------\n",
    "    \"\"\"\n",
    "    deg2rad = np.pi / 180.\n",
    "\n",
    "    a = np.cos(incl*deg2rad) * np.cos((decl-azim)*deg2rad)\n",
    "    b = np.cos(incl*deg2rad) * np.sin((decl-azim)*deg2rad)\n",
    "    c = np.sin(incl*deg2rad)\n",
    "    return a,b,c"
   ]
  },
  {
   "cell_type": "code",
   "execution_count": 9,
   "metadata": {},
   "outputs": [],
   "source": [
    "def mag_sphere (xo,yo,zo,xp,yp,zp,radius,earthincl,earthdecl,mag,incl,decl,theta):\n",
    "    \"\"\"\n",
    "    !-----------------------------------------------------------------------\n",
    "    ! Magnetic anomaly of a uniformly magnetised sphere.\n",
    "    ! x-axis is north, z-axis vertically down\n",
    "    !\n",
    "    ! Input parameters:\n",
    "    ! xo,yo,zo [m]         - location of observation point\n",
    "    ! xp,yp,zp [m]         - location of center of sphere\n",
    "    ! radius [m]           - radius of sphere\n",
    "    ! earthincl [degrees]  - inclination of earth field, positive below horizontal\n",
    "    ! earthdecl [degrees]  - declination of earth field, positive east of true north\n",
    "    ! mag [A/m]            - magnetisation      \n",
    "    ! incl [degrees]       - inclination of magnetisation, positive below horizontal\n",
    "    ! decl [degrees]       - declination of magnetisation, positive east of true north\n",
    "    ! theta [degrees]      - azimuth of x axis in degrees positive east to north\n",
    "    !\n",
    "    ! Output parameter:\n",
    "    ! bx,by,bz [nT]        - Magnetic induction component at observation point\n",
    "    ! t [nT]               - Total field at observation point\n",
    "    !\n",
    "    ! from:\n",
    "    ! Blakeley (1995): Potential theory in gravity & magnetic applications\n",
    "    !-----------------------------------------------------------------------\n",
    "    \"\"\"\n",
    "    mu04pi  = 1.000e-7      # Vs/Am\n",
    "    t2nt    = 1.e9          # T -> nT\n",
    "    mx,my,mz = dircos (incl,decl,theta)\n",
    "    fx,fy,fz = dircos (earthincl,earthdecl,theta)\n",
    "\n",
    "    rx   = xo - xp\n",
    "    ry   = yo - yp\n",
    "    rz   = zo - zp\n",
    "    r2   = rx**2 + ry**2 + rz**2\n",
    "    if (r2 == 0):\n",
    "        print ('mag_sphere: obs point in centrum of sphere')\n",
    "    r    = np.sqrt(r2)\n",
    "    r5   = r**5\n",
    "    dot  = rx*mx + ry*my + rz*mz\n",
    "    moment = 4./3.*np.pi*mag*radius**3\n",
    "    bx = t2nt * mu04pi * moment * (3.*dot*rx - r2*mx) / r5\n",
    "    by = t2nt * mu04pi * moment * (3.*dot*ry - r2*my) / r5\n",
    "    bz = t2nt * mu04pi * moment * (3.*dot*rz - r2*mz) / r5\n",
    "    t  = fx*bx + fy*by + fz*bz\n",
    "    return bx,by,bz,t"
   ]
  },
  {
   "cell_type": "code",
   "execution_count": 14,
   "metadata": {},
   "outputs": [
    {
     "data": {
      "text/plain": [
       "<matplotlib.legend.Legend at 0x136a37c10>"
      ]
     },
     "execution_count": 14,
     "metadata": {},
     "output_type": "execute_result"
    },
    {
     "data": {
      "image/png": "[encoded data removed]",
      "text/plain": [
       "<Figure size 432x288 with 1 Axes>"
      ]
     },
     "metadata": {
      "needs_background": "light"
     },
     "output_type": "display_data"
    }
   ],
   "source": [
    "x = np.linspace(-10,10,101)\n",
    "mag_bx = np.array([])\n",
    "mag_by = np.array([])\n",
    "mag_bz = np.array([])\n",
    "mag_t  = np.array([])\n",
    "for i in range(len(x)):\n",
    "    bx,by,bz,t = mag_sphere(xo=x[i],yo=0,zo=0,xp=0,yp=0,zp=1.5,radius=1.,\n",
    "                        earthincl=67.,earthdecl=0.,mag=0.04,incl=90.,decl=0.,theta=0.)\n",
    "    mag_bx = np.append(mag_bx,bx)\n",
    "    mag_by = np.append(mag_by,by)\n",
    "    mag_bz = np.append(mag_bz,bz)\n",
    "    mag_t  = np.append(mag_t,t)\n",
    "    \n",
    "    \n",
    "plt.plot(x,mag_bx,label='Bx')\n",
    "plt.plot(x,mag_by,label='By')\n",
    "plt.plot(x,mag_bz,label='Bz',linewidth=2)\n",
    "plt.plot(x,mag_t,label='T',linestyle=':')\n",
    "plt.legend()"
   ]
  },
  {
   "cell_type": "code",
   "execution_count": null,
   "metadata": {},
   "outputs": [],
   "source": [
    "plt.plot(x,mag_bz-mag_t)"
   ]
  },
  {
   "cell_type": "markdown",
   "metadata": {},
   "source": [
    "... done"
   ]
  }
 ],
 "metadata": {
  "kernelspec": {
   "display_name": "Python 3 (ipykernel)",
   "language": "python",
   "name": "python3"
  },
  "language_info": {
   "codemirror_mode": {
    "name": "ipython",
    "version": 3
   },
   "file_extension": ".py",
   "mimetype": "text/x-python",
   "name": "python",
   "nbconvert_exporter": "python",
   "pygments_lexer": "ipython3",
   "version": "3.9.6"
  }
 },
 "nbformat": 4,
 "nbformat_minor": 2
}
