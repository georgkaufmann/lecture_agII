{
 "cells": [
  {
   "cell_type": "markdown",
   "metadata": {},
   "source": [
    "<table>\n",
    "<tr><td><img style=\"height: 150px;\" src=\"images/geo_hydro1.jpg\"></td>\n",
    "<td bgcolor=\"#FFFFFF\">\n",
    "    <p style=\"font-size: xx-large; font-weight: 900; line-height: 100%\">AG Dynamics of the Earth</p>\n",
    "    <p style=\"font-size: large; color: rgba(0,0,0,0.5);\">Juypter notebooks</p>\n",
    "    <p style=\"font-size: large; color: rgba(0,0,0,0.5);\">Georg Kaufmann</p>\n",
    "    </td>\n",
    "</tr>\n",
    "</table>"
   ]
  },
  {
   "cell_type": "markdown",
   "metadata": {},
   "source": [
    "# Angewandte Geophysik II: Kap 5: Gravimetrie\n",
    "# Schweremodellierung\n",
    "----\n",
    "*Georg Kaufmann,\n",
    "Geophysics Section,\n",
    "Institute of Geological Sciences,\n",
    "Freie Universität Berlin,\n",
    "Germany*"
   ]
  },
  {
   "cell_type": "code",
   "execution_count": 1,
   "metadata": {},
   "outputs": [],
   "source": [
    "import numpy as np\n",
    "import matplotlib.pyplot as plt\n",
    "import ipywidgets as widgets"
   ]
  },
  {
   "cell_type": "code",
   "execution_count": 2,
   "metadata": {},
   "outputs": [],
   "source": [
    "# define profile\n",
    "xmin  = -400.\n",
    "xmax  = +400.\n",
    "xstep = 101\n",
    "tiny  = 1.e-10\n",
    "x = np.linspace(xmin,xmax,xstep) + tiny"
   ]
  },
  {
   "cell_type": "code",
   "execution_count": 3,
   "metadata": {},
   "outputs": [],
   "source": [
    "def boug_sphere(x,D=100.,R=50.,drho=500.):\n",
    "    G    = 6.672e-11      # m^3/kg/s^2\n",
    "    # Bouguer gravity of solid sphere\n",
    "    boug = 4./3.*np.pi*G*drho * R**3*D/(x**2+D**2)**(3/2)\n",
    "    return boug"
   ]
  },
  {
   "cell_type": "markdown",
   "metadata": {},
   "source": [
    "## 2D Platte\n",
    "\n",
    "<img src=figures/sketch_dip_sheet.jpg style=width:10cm>\n",
    "\n",
    "$$\n",
    "\\begin{array}{rcl}\n",
    " g(x) & = & 2 G \\Delta \\rho T\n",
    "          \\left\\{\n",
    "          \\frac{1}{2}\\sin\\alpha \\log\\left( \n",
    "            \\frac{(D+L\\sin\\alpha)^2 + (x+L\\cos\\alpha)^2}{(x^2+D^2)} \\right)\n",
    "          \\right. \\\\\n",
    "        &   &\n",
    "          \\left.\n",
    "          -\\cos\\alpha \\left[ \n",
    "           \\arctan\\left( \\frac{D\\sin\\alpha+L+x\\cos\\alpha}{x\\sin\\alpha-D\\cos\\alpha} \\right)\n",
    "          -\\arctan\\left( \\frac{D\\sin\\alpha+x\\cos\\alpha}{x\\sin\\alpha-D\\cos\\alpha} \\right)\n",
    "                      \\right]\n",
    "          \\right\\}\n",
    "\\end{array}\n",
    "$$"
   ]
  },
  {
   "cell_type": "code",
   "execution_count": 4,
   "metadata": {},
   "outputs": [],
   "source": [
    "def boug_plate(x,drho=500.,D=100.,L=1000.,T=50.,alpha=90.):\n",
    "    # Bouguer gravity of plate\n",
    "    G    = 6.672e-11      # m^3/kg/s^2\n",
    "    d2r = np.pi/180.\n",
    "    boug = 2.*G*drho*T * (\n",
    "           0.5*np.sin(alpha*d2r)*np.log(((D+L*np.sin(alpha*d2r))**2\n",
    "                                    +(x+L*np.cos(alpha*d2r))**2) \n",
    "                                    /(x**2 + D**2))\n",
    "          -np.cos(alpha*d2r)*(np.arctan((D*np.sin(alpha*d2r)+L+x*np.cos(alpha*d2r)) \n",
    "                                  /(x*np.sin(alpha*d2r)-D*np.cos(alpha*d2r)))\n",
    "                        -np.arctan((D*np.sin(alpha*d2r) + x*np.cos(alpha*d2r)) \n",
    "                                  /(x*np.sin(alpha*d2r) - D*np.cos(alpha*d2r))))                       )       \n",
    "    return boug"
   ]
  },
  {
   "cell_type": "code",
   "execution_count": 5,
   "metadata": {},
   "outputs": [],
   "source": [
    "def plot_plate(f1=False,f2=False,f3=False,f4=False,f5=False):\n",
    "    fig,axs = plt.subplots(2,1,figsize=(12,8))\n",
    "\n",
    "    axs[0].set_xlim([-400,400])\n",
    "    axs[0].set_xticks([x for x in np.linspace(-300,300,7)])\n",
    "    #axs[0].set_xlabel('Profile [m]')\n",
    "    axs[0].set_ylim([0.0,1.0])\n",
    "    axs[0].set_yticks([y for y in np.linspace(0.0,1.0,5)])\n",
    "    axs[0].set_ylabel('Gravity [mGal]')\n",
    "    axs[0].text(-300,-0.50,'D$_1$=150m')\n",
    "    axs[0].text(-300,-0.60,'D$_2$=100m')\n",
    "    axs[0].text(-300,-0.70,'T=150m')\n",
    "    axs[0].plot(x,1.e5*boug_sphere(x),linewidth=1.0,linestyle=':',color='black',label='sphere')\n",
    "    if (f1):\n",
    "        axs[0].plot(x,1.e5*boug_plate(x),linewidth=2.0,linestyle='-',color='red',label='L=1000m, $\\\\alpha$=90')\n",
    "    if (f2):\n",
    "        axs[0].plot(x,1.e5*boug_plate(x,alpha=135),linewidth=2.0,linestyle='--',color='red',label='L=1000m, $\\\\alpha$=135')    \n",
    "    if (f3):\n",
    "        axs[0].plot(x,1.e5*boug_plate(x,alpha=180),linewidth=2.0,linestyle=':',color='red',label='L=1000m, $\\\\alpha$=180')\n",
    "    if (f4):\n",
    "        axs[0].plot(x,1.e5*boug_plate(x,L=500),linewidth=2.0,linestyle='-',color='green',label='L=500m')\n",
    "    if (f5):\n",
    "        axs[0].plot(x,1.e5*boug_plate(x,L=100),linewidth=2.0,linestyle='-',color='blue',label='L=100m')\n",
    "    axs[0].legend()\n",
    "\n",
    "    axs[1].set_xlim([-400,400])\n",
    "    axs[1].set_xticks([x for x in np.linspace(-300,300,7)])\n",
    "    axs[1].set_xlabel('Profile [m]')\n",
    "    axs[1].set_ylim([600,0])\n",
    "    axs[1].set_yticks([y for y in np.linspace(0.,600.,5)])\n",
    "    axs[1].set_ylabel('Depth [m]')\n",
    "    angle = [theta for theta in np.linspace(0,2*np.pi,41)]\n",
    "    D = 100.\n",
    "    alpha = 90; L =1000; xa1=0; ya1 = D; xb1 = -L*np.cos(alpha*np.pi/180.); yb1 = D+L*np.sin(alpha*np.pi/180.)\n",
    "    alpha =135; L =1000; xa2=0; ya2 = D; xb2 = -L*np.cos(alpha*np.pi/180.); yb2 = D+L*np.sin(alpha*np.pi/180.)\n",
    "    alpha =180; L =1000; xa3=0; ya3 = D; xb3 = -L*np.cos(alpha*np.pi/180.); yb3 = D+L*np.sin(alpha*np.pi/180.)\n",
    "    alpha = 90; L = 500; xa4=0; ya4 = D; xb4 = -L*np.cos(alpha*np.pi/180.); yb4 = D+L*np.sin(alpha*np.pi/180.)\n",
    "    alpha = 90; L = 100; xa5=0; ya5 = D; xb5 = -L*np.cos(alpha*np.pi/180.); yb5 = D+L*np.sin(alpha*np.pi/180.)\n",
    "\n",
    "    if (f1):\n",
    "        axs[1].plot([xa1,xb1],[ya1,yb1],linewidth=5,linestyle='-',color='red')\n",
    "    if (f2):\n",
    "        axs[1].plot([xa2,xb2],[ya2,yb2],linewidth=5,linestyle='--',color='red')\n",
    "    if (f3):\n",
    "        axs[1].plot([xa3,xb3],[ya3,yb3],linewidth=5,linestyle=':',color='red')\n",
    "    if (f4):\n",
    "        axs[1].plot([xa4,xb4],[ya4,yb4],linewidth=5,linestyle='-',color='green')\n",
    "    if (f5):\n",
    "        axs[1].plot([xa5,xb5],[ya5,yb5],linewidth=5,linestyle='-',color='blue')"
   ]
  },
  {
   "cell_type": "code",
   "execution_count": null,
   "metadata": {},
   "outputs": [],
   "source": [
    "plot_plate(f1=True)"
   ]
  },
  {
   "cell_type": "code",
   "execution_count": 6,
   "metadata": {},
   "outputs": [
    {
     "data": {
      "application/vnd.jupyter.widget-view+json": {
       "model_id": "41a518e7b89047288feed9d55b8441df",
       "version_major": 2,
       "version_minor": 0
      },
      "text/plain": [
       "HBox(children=(VBox(children=(Checkbox(value=True, description='eins'), Checkbox(value=False, description='zwe…"
      ]
     },
     "metadata": {},
     "output_type": "display_data"
    }
   ],
   "source": [
    "# call interactive module\n",
    "w = dict(\n",
    "f1=widgets.Checkbox(value=True,description='eins',continuous_update=False,disabled=False),\n",
    "#a1=widgets.FloatSlider(min=0.,max=2.,step=0.1,value=1.0),\n",
    "f2=widgets.Checkbox(value=False,description='zwei',continuous_update=False,disabled=False),\n",
    "f3=widgets.Checkbox(value=False,description='drei',continuous_update=False,disabled=False),\n",
    "f4=widgets.Checkbox(value=False,description='vier',continuous_update=False,disabled=False),\n",
    "f5=widgets.Checkbox(value=False,description='fuenf',continuous_update=False,disabled=False))\n",
    "output = widgets.interactive_output(plot_plate, w)\n",
    "box = widgets.HBox([widgets.VBox([*w.values()]), output])\n",
    "display(box)"
   ]
  },
  {
   "cell_type": "markdown",
   "metadata": {},
   "source": [
    "## Spezialfälle horizontale Platte\n",
    "\n",
    "<img src=figures/sketch_dip_sheet.jpg style=width:10cm>\n",
    "\n",
    "**Horizontale Platte nach links gedreht:**\n",
    "- $\\alpha=0$, $L$\n",
    "\n",
    "$$\n",
    "\\begin{array}{rcl}\n",
    " g(x) & = & 2 G \\Delta \\rho T\n",
    "          \\left\\{\n",
    "          \\left[ \n",
    "           \\arctan\\left( \\frac{L+x}{D} \\right)\n",
    "          -\\arctan\\left( \\frac{x}{D} \\right)\n",
    "                      \\right]\n",
    "          \\right\\}\n",
    "\\end{array}\n",
    "$$\n",
    " \n",
    "- $\\alpha=0$, $L \\to \\infty$\n",
    "\n",
    "$$\n",
    "\\begin{array}{rcl}\n",
    " g(x) & = & 2 G \\Delta \\rho T\n",
    "          \\left\\{\n",
    "          \\left[ \n",
    "           \\frac{\\pi}{2}\n",
    "          -\\arctan\\left( \\frac{x}{D} \\right)\n",
    "                      \\right]\n",
    "          \\right\\}\n",
    "\\end{array}\n",
    "$$\n",
    "\n",
    "**Horizontale Platte nach rechts gedreht:**\n",
    "- $\\alpha=180$, $L$\n",
    "\n",
    "$$\n",
    "\\begin{array}{rcl}\n",
    " g(x) & = & 2 G \\Delta \\rho T\n",
    "          \\left\\{\n",
    "          \\left[ \n",
    "           \\arctan\\left( \\frac{L-x}{D} \\right)\n",
    "          +\\arctan\\left( \\frac{x}{D} \\right)\n",
    "                      \\right]\n",
    "          \\right\\}\n",
    "\\end{array}\n",
    "$$\n",
    "\n",
    "- $\\alpha=180$, $L \\to \\infty$\n",
    "\n",
    "$$\n",
    "\\begin{array}{rcl}\n",
    " g(x) & = & 2 G \\Delta \\rho T\n",
    "          \\left\\{\n",
    "          \\left[ \n",
    "          \\frac{\\pi}{2}\n",
    "          +\\arctan\\left( \\frac{x}{D} \\right)\n",
    "                      \\right]\n",
    "          \\right\\}\n",
    "\\end{array}\n",
    "$$\n",
    "\n",
    "Die Summe einer semi-infiniten Platte nach links und einer semi-infiniten Platte nach rechts\n",
    "bildet eine **Störungszone**:\n",
    "$$\n",
    "g(x) = 2 G \\Delta \\rho T\n",
    "          \\left\\{\n",
    "          \\left[ \n",
    "           \\frac{\\pi}{2} - \\arctan\\left( \\frac{x}{D_1} \\right)\n",
    "          + \\frac{\\pi}{2} + \\arctan\\left( \\frac{x}{D_2} \\right)\n",
    "                      \\right]\n",
    "          \\right\\}\n",
    "$$"
   ]
  },
  {
   "cell_type": "markdown",
   "metadata": {},
   "source": [
    "... done"
   ]
  }
 ],
 "metadata": {
  "kernelspec": {
   "display_name": "Python 3",
   "language": "python",
   "name": "python3"
  },
  "language_info": {
   "codemirror_mode": {
    "name": "ipython",
    "version": 3
   },
   "file_extension": ".py",
   "mimetype": "text/x-python",
   "name": "python",
   "nbconvert_exporter": "python",
   "pygments_lexer": "ipython3",
   "version": "3.7.3"
  }
 },
 "nbformat": 4,
 "nbformat_minor": 1
}
