{
 "cells": [
  {
   "cell_type": "markdown",
   "metadata": {},
   "source": [
    "<table>\n",
    "<tr><td><img style=\"height: 150px;\" src=\"images/geo_hydro1.jpg\"></td>\n",
    "<td bgcolor=\"#FFFFFF\">\n",
    "    <p style=\"font-size: xx-large; font-weight: 900; line-height: 100%\">AG Dynamics of the Earth</p>\n",
    "    <p style=\"font-size: large; color: rgba(0,0,0,0.5);\">Jupyter notebooks</p>\n",
    "    <p style=\"font-size: large; color: rgba(0,0,0,0.5);\">Georg Kaufmann</p>\n",
    "    </td>\n",
    "</tr>\n",
    "</table>"
   ]
  },
  {
   "cell_type": "markdown",
   "metadata": {},
   "source": [
    "# Angewandte Geophysik II: Kap 2: Potentialtheorie\n",
    "# Potentialfeld und Vektorfeld\n",
    "----\n",
    "*Georg Kaufmann,\n",
    "Geophysics Section,\n",
    "Institute of Geological Sciences,\n",
    "Freie Universität Berlin,\n",
    "Germany*"
   ]
  },
  {
   "cell_type": "markdown",
   "metadata": {},
   "source": [
    "Wir definieren uns als Potentialfunktion $U(x,y)$ die **inverse Länge**:\n",
    "$$\n",
    "U(x,y,z) = {{1} \\over {r}} \n",
    "= {{1} \\over {\\sqrt{(x-x_0)^2 + (y-y_0)^2 + (z-z_0)^2}}} \n",
    "$$\n",
    "mit $(x_0,y_0,z_0)^T$ der Punktquelle des Potentials, und $(x,y,z)^T$ dem Beobachtungspunkt."
   ]
  },
  {
   "cell_type": "markdown",
   "metadata": {},
   "source": [
    "Setzen wir den Ursprung des Potentials in den Ursprung des Koordinatensystems, \n",
    "$(x_0,y_0,z_0)^T=(0,0,0)^T$, dann gilt:\n",
    "$$\n",
    "U(x,y,z) = {{1} \\over {r}} \n",
    "= {{1} \\over {\\sqrt{x^2 + y^2 + z^2}}} \n",
    "$$"
   ]
  },
  {
   "cell_type": "markdown",
   "metadata": {},
   "source": [
    "Die Vektorfunktion $\\vec{F}(x,y)$ definieren wir als Gradienten des Potentials:\n",
    "$$\n",
    "\\vec{F}(x,y) = \\nabla U\n",
    "= \\left(\n",
    "\\begin{array}{c} {{\\partial} \\over {\\partial x}} \\\\ \n",
    "                 {{\\partial} \\over {\\partial y}} \\\\ \n",
    "                 {{\\partial} \\over {\\partial z}} \\end{array}\n",
    "\\right) \\left( {{1} \\over {r}} \\right)\n",
    "= \\left(\n",
    "\\begin{array}{c} {{\\partial} \\over {\\partial x}} \\\\ \n",
    "                 {{\\partial} \\over {\\partial y}} \\\\ \n",
    "                 {{\\partial} \\over {\\partial z}} \\end{array}\n",
    "\\right) \\left( x^2 + y^2 + z^2 \\right)^{-{{1} \\over {2}}}\n",
    "= \\left(\n",
    "\\begin{array}{c}\n",
    "-{{1} \\over {2}} (x^2+y^2+z^2)^{-{{3} \\over {2}}} 2x \\\\\n",
    "-{{1} \\over {2}} (x^2+y^2+z^2)^{-{{3} \\over {2}}} 2y \\\\\n",
    "-{{1} \\over {2}} (x^2+y^2+z^2)^{-{{3} \\over {2}}} 2z\n",
    "\\end{array}\n",
    "\\right)\n",
    "= \\left(\n",
    "\\begin{array}{c}\n",
    "-{{x} \\over {r^3}} \\\\\n",
    "-{{y} \\over {r^3}} \\\\\n",
    "-{{z} \\over {r^3}}\n",
    "\\end{array}\n",
    "\\right)\n",
    "= - {{\\vec{r}} \\over {r^3}}\n",
    "= - {{\\hat{r}} \\over {r^2}}\n",
    "$$\n",
    "Im letzten Schritt haben wir den *Einheitsvektor* $\\hat{r}={{\\vec{r}}\\over{r}}$, der\n",
    "die Länge eins hat, eingeführt."
   ]
  },
  {
   "cell_type": "markdown",
   "metadata": {},
   "source": [
    "Die Definition von Potentialfeld $U$ und Vektorfeld $\\vec{F}$ ist eine Beschreibung für so \n",
    "unterschiedliche Felder wie\n",
    "\n",
    "- **Gravitationsfeld**: $\\vec{g}=\\nabla U$\n",
    "$$\n",
    "\\begin{array}{rcl}\n",
    "U       &=& {{GM}\\over{r}} \\\\\n",
    "\\vec{g} &=& -{{GM}\\over{r^2}} \\hat{r}\n",
    "\\end{array}\n",
    "$$\n",
    "\n",
    "- **Elektrisches Feld**: $\\vec{E}=-\\nabla U$\n",
    "$$\n",
    "\\begin{array}{rcl}\n",
    "U       &=& {{1}\\over{4\\pi \\epsilon_0}} {{Q}\\over{r}} \\\\\n",
    "\\vec{E} &=& {{1}\\over{4\\pi \\epsilon_0}} {{Q}\\over{r^2}} \\hat{r}\n",
    "\\end{array}\n",
    "$$\n",
    "\n",
    "- **Magnetisches Feld**: $\\vec{B}=-\\nabla U$\n",
    "$$\n",
    "\\begin{array}{rcl}\n",
    "U       &=& {{\\mu_0}\\over{4\\pi}} {{P}\\over{r}} \\\\\n",
    "\\vec{B} &=& {{\\mu_0}\\over{4\\pi}} {{P}\\over{r^2}} \\hat{r}\n",
    "\\end{array}\n",
    "$$"
   ]
  },
  {
   "cell_type": "markdown",
   "metadata": {},
   "source": [
    "|Symbol      |Einheit          |Wert                            | Bezeichnung                |\n",
    "|------------|-----------------|--------------------------------|----------------------------|\n",
    "|$G$         |m$^3$/kg/s$^2$   |$6.67408 \\times 10^{-11}$       | Gravitationskonstante      |\n",
    "|$M$         |kg               |$5.972 \\times 10^{24}$          | Masse der Erde             |\n",
    "|$\\epsilon_0$|Am/(Vs)          |$8.854 \\times 10^{-12}$         | elektrische Permittivität  |\n",
    "|$\\mu_0$     |Vs/(Am)          |$4\\pi \\times 10^{-7}$           | magnetische Permeabilität  |"
   ]
  },
  {
   "cell_type": "code",
   "execution_count": 1,
   "metadata": {},
   "outputs": [
    {
     "data": {
      "application/vnd.jupyter.widget-view+json": {
       "model_id": "f9a227c415f64084a90cb7f78c11ed7f",
       "version_major": 2,
       "version_minor": 0
      },
      "text/plain": [
       "interactive(children=(Dropdown(description='Potential:', options=('monopole', 'dipole', 'line'), value='monopo…"
      ]
     },
     "execution_count": 1,
     "metadata": {},
     "output_type": "execute_result"
    }
   ],
   "source": [
    "%matplotlib inline\n",
    "'''\n",
    "calculate scalar potential U in x-y-plane\n",
    "and derive vector field (Ex,Ey) from nabla(U)\n",
    "'''\n",
    "import numpy as np\n",
    "import matplotlib.pyplot as plt\n",
    "import matplotlib.cm as cm\n",
    "from ipywidgets import interactive\n",
    "import ipywidgets as widgets\n",
    "\n",
    "# gravitational constant [m3/kg/s2], Earth's mass [kg]\n",
    "g, mass = 6.67408e-11, 5.972e24\n",
    "# Dipole charge (C), Permittivity of free space (F.m-1), Dipole +q, -q distance (m)\n",
    "q, eps0,d = +1.602e-19, 8.854e-12, 1.e-12\n",
    "# scaling for potential\n",
    "kgrav     = g*mass\n",
    "kmonopole = 1/4/np.pi/eps0 * q #* d\n",
    "k         = 1.\n",
    "\n",
    "# Cartesian axis system with origin at the dipole (m)\n",
    "size = 1.5\n",
    "X = np.linspace(-size, size, 40)\n",
    "Y = np.linspace(-size, size, 40)\n",
    "# re-mesh for 2D plot\n",
    "X, Y = np.meshgrid(X, Y)\n",
    "# calculate angle T for unit vector components\n",
    "T = np.arctan2(Y, X)\n",
    "# calculate R=sqrt(Y**2+Y**2)\n",
    "R = np.hypot(X,Y)\n",
    "\n",
    "def plot_potential(type):\n",
    "    if (type == 'dipole'):\n",
    "        # Dipole potential (V), using point dipole approximation\n",
    "        U = k * X / np.hypot(X, Y)**3\n",
    "        Ey, Ex = np.gradient(U)\n",
    "        Ex, Ey = -1*Ex,-1*Ey\n",
    "    elif (type == 'monopole'):\n",
    "        # Monopole potential (V)\n",
    "        U = k / R\n",
    "        Ey, Ex = np.gradient(U)\n",
    "    elif (type == 'line'):\n",
    "        # Rotational potential\n",
    "        U=X**2\n",
    "        Ey, Ex = np.gradient(U)\n",
    "\n",
    "    E_norm = np.sqrt(Ex**2 + Ey**2)\n",
    "\n",
    "    # define levels for contours and colormap for vector magnitudes\n",
    "    levels = np.array([10**pw for pw in np.linspace(-1,2,7)])\n",
    "    levels = sorted(list(-levels) + list(levels))\n",
    "    cmap = cm.get_cmap(name='nipy_spectral', lut=None)\n",
    "    # plot figure for potential and vector field\n",
    "    plt.figure(figsize=(10.0,10.0))\n",
    "    plt.title('Potential and vector field')\n",
    "    CS = plt.contour(X, Y, U,colors='k',levels=levels)\n",
    "    plt.clabel(CS, inline=1, fontsize=10,fmt='%8.1f')\n",
    "    plt.quiver(X, Y, Ex/E_norm, Ey/E_norm, E_norm, alpha=.5,scale=40)\n",
    "    plt.quiver(X, Y, Ex/E_norm, Ey/E_norm,edgecolor='k', facecolor='None', linewidth=.5,color='blue',scale=40)\n",
    "    plt.show()\n",
    "    \n",
    "# call interactive module\n",
    "interactive_plot = interactive(plot_potential, \n",
    "                               type=widgets.Dropdown(options=['monopole', 'dipole', 'line'],value='monopole',description='Potential:')\n",
    "                              )\n",
    "output = interactive_plot.children[-1]\n",
    "interactive_plot"
   ]
  },
  {
   "cell_type": "markdown",
   "metadata": {},
   "source": [
    "... done"
   ]
  }
 ],
 "metadata": {
  "kernelspec": {
   "display_name": "Python 3 (ipykernel)",
   "language": "python",
   "name": "python3"
  },
  "language_info": {
   "codemirror_mode": {
    "name": "ipython",
    "version": 3
   },
   "file_extension": ".py",
   "mimetype": "text/x-python",
   "name": "python",
   "nbconvert_exporter": "python",
   "pygments_lexer": "ipython3",
   "version": "3.10.6"
  }
 },
 "nbformat": 4,
 "nbformat_minor": 1
}
