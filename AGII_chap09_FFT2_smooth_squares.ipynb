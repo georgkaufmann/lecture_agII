{
 "cells": [
  {
   "cell_type": "markdown",
   "metadata": {},
   "source": [
    "<table>\n",
    "<tr><td><img style=\"height: 150px;\" src=\"images/geo_hydro1.jpg\"></td>\n",
    "<td bgcolor=\"#FFFFFF\">\n",
    "    <p style=\"font-size: xx-large; font-weight: 900; line-height: 100%\">AG Dynamics of the Earth</p>\n",
    "    <p style=\"font-size: large; color: rgba(0,0,0,0.5);\">Juypter notebooks</p>\n",
    "    <p style=\"font-size: large; color: rgba(0,0,0,0.5);\">Georg Kaufmann</p>\n",
    "    </td>\n",
    "</tr>\n",
    "</table>"
   ]
  },
  {
   "cell_type": "markdown",
   "metadata": {},
   "source": [
    "# Angewandte Geophysik II: Kap 9: Filterung\n",
    "## 2D FFT with simple squares example\n",
    "----\n",
    "*Georg Kaufmann,\n",
    "Geophysics Section,\n",
    "Institute of Geological Sciences,\n",
    "Freie Universität Berlin,\n",
    "Germany*\n",
    "\n",
    "Generate a number of squares with value $1$ in a background with value $0$, then\n",
    "Fourier-transform image, apply a Gaussian blur filter, and the inverse Fourier transform."
   ]
  },
  {
   "cell_type": "code",
   "execution_count": 62,
   "metadata": {},
   "outputs": [],
   "source": [
    "import numpy as np\n",
    "import matplotlib.pyplot as plt\n",
    "from matplotlib.colors import LinearSegmentedColormap\n",
    "colors = [(1, 1, 1), (0, 0, 0)]  # R -> G -> B\n",
    "cmap_name = 'my_list'\n",
    "cm = LinearSegmentedColormap.from_list(cmap_name, colors, N=5)\n",
    "tiny=1e-15"
   ]
  },
  {
   "cell_type": "code",
   "execution_count": 70,
   "metadata": {},
   "outputs": [],
   "source": [
    "# image size, square side length, number of squares\n",
    "nx,ny    = 120, 120\n",
    "sq_size  = 10\n",
    "nsquares = 10\n",
    "\n",
    "# The image array (0=background, 1=square) and boolean array of allowed places\n",
    "# to add a square so that it doesn't touch another or the image sides\n",
    "image = np.zeros((nx, ny))\n",
    "sq_locs = np.zeros((nx, ny), dtype=bool)\n",
    "sq_locs[1:-sq_size-1:,1:-sq_size-1] = True\n",
    "\n",
    "def place_square():\n",
    "    \"\"\" Place a square at random on the image and update sq_locs. \"\"\"\n",
    "    # valid_locs is an array of the indices of True entries in sq_locs\n",
    "    valid_locs = np.transpose(np.nonzero(sq_locs))\n",
    "    # pick one such entry at random, and add the square so its top left\n",
    "    # corner is there; then update sq_locs\n",
    "    i, j = valid_locs[np.random.randint(len(valid_locs))]\n",
    "    image[i:i+sq_size, j:j+sq_size] = 1\n",
    "    imin, jmin = max(0,i-sq_size-1), max(0, j-sq_size-1)\n",
    "    sq_locs[imin:i+sq_size+1, jmin:j+sq_size+1] = False\n",
    "\n",
    "# Add the required number of squares to the image\n",
    "for i in range(nsquares):\n",
    "    place_square()\n",
    "    \n",
    "# Take the 2-dimensional DFT and centre the frequencies\n",
    "ftimage = np.fft.fft2(image)\n",
    "ftimage = np.fft.fftshift(ftimage)\n",
    "\n",
    "# Build and apply a Gaussian filter.\n",
    "def gmask(sigmax=30,sigmay=30):\n",
    "    cy, cx = nx/2, ny/2\n",
    "    x = np.linspace(0, nx, nx)\n",
    "    y = np.linspace(0, ny, ny)\n",
    "    X, Y = np.meshgrid(x, y)\n",
    "    gmask = np.exp(-(((X-cx)/sigmax)**2 + ((Y-cy)/sigmay)**2))\n",
    "    return gmask\n",
    "\n",
    "\n",
    "# Finally, take the inverse transform and show the blurred image\n",
    "ftimagep = ftimage * gmask(8,8)\n",
    "imagep = np.fft.ifft2(ftimagep)\n",
    "\n",
    "power  = np.abs(ftimage)**2\n",
    "power  = 20*np.log10((power+tiny)/power.max())\n",
    "powerp = np.abs(ftimagep)**2\n",
    "powerp = 20*np.log10((powerp+tiny)/powerp.max())"
   ]
  },
  {
   "cell_type": "code",
   "execution_count": 71,
   "metadata": {},
   "outputs": [
    {
     "data": {
      "text/plain": [
       "<matplotlib.image.AxesImage at 0x11938ae10>"
      ]
     },
     "execution_count": 71,
     "metadata": {},
     "output_type": "execute_result"
    },
    {
     "data": {
      "image/png": "[encoded data removed]",
      "text/plain": [
       "<Figure size 864x576 with 4 Axes>"
      ]
     },
     "metadata": {
      "needs_background": "light"
     },
     "output_type": "display_data"
    }
   ],
   "source": [
    "fig,axs = plt.subplots(2,2,figsize=(12.0,8.0))\n",
    "\n",
    "axs[0,0].set_title('random squares')\n",
    "axs[0,0].imshow(image,cmap=cm)\n",
    "axs[0,1].set_title('spectrum')\n",
    "axs[0,1].imshow(power,cmap=cm)\n",
    "axs[1,0].set_title('filtered random squares')\n",
    "axs[1,0].imshow(np.abs(imagep),cmap=cm)\n",
    "axs[1,1].set_title('spectrum')\n",
    "axs[1,1].imshow(powerp,cmap=cm)"
   ]
  },
  {
   "cell_type": "markdown",
   "metadata": {},
   "source": [
    "... done"
   ]
  }
 ],
 "metadata": {
  "kernelspec": {
   "display_name": "Python 3",
   "language": "python",
   "name": "python3"
  },
  "language_info": {
   "codemirror_mode": {
    "name": "ipython",
    "version": 3
   },
   "file_extension": ".py",
   "mimetype": "text/x-python",
   "name": "python",
   "nbconvert_exporter": "python",
   "pygments_lexer": "ipython3",
   "version": "3.7.3"
  }
 },
 "nbformat": 4,
 "nbformat_minor": 2
}
