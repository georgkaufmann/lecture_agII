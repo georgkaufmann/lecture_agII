{
 "cells": [
  {
   "cell_type": "markdown",
   "metadata": {},
   "source": [
    "<table>\n",
    "<tr><td><img style=\"height: 150px;\" src=\"images/geo_hydro1.jpg\"></td>\n",
    "<td bgcolor=\"#FFFFFF\">\n",
    "    <p style=\"font-size: xx-large; font-weight: 900; line-height: 100%\">AG Dynamics of the Earth</p>\n",
    "    <p style=\"font-size: large; color: rgba(0,0,0,0.5);\">Jupyter notebooks</p>\n",
    "    <p style=\"font-size: large; color: rgba(0,0,0,0.5);\">Georg Kaufmann</p>\n",
    "    </td>\n",
    "</tr>\n",
    "</table>"
   ]
  },
  {
   "cell_type": "markdown",
   "metadata": {},
   "source": [
    "# Angewandte Geophysik II\n",
    "----\n",
    "*Georg Kaufmann,\n",
    "Geophysics Section,\n",
    "Institute of Geological Sciences,\n",
    "Freie Universität Berlin,\n",
    "Germany*\n",
    "\n",
    "**Additional jupyter notebooks for lecture**\n",
    "\n",
    "Chapters:\n",
    "\n",
    "- Kapitel 1: Einleitung\n",
    "    - [Angewandte Geophysik II: Kap01: Intro](AGII_chap01_Intro.ipynb)\n",
    "    - [Angewandte Geophysik II: Kap01: Komplexe Zahlen](AGII_chap01_ComplexNumbers.ipynb)\n",
    "\n",
    "- Kapitel 2: Potentialtheorie\n",
    "    - [Angewandte Geophysik II: Kap02: Trigonometrie](AGII_chap02_Trigonometrie.ipynb)\n",
    "    - [Angewandte Geophysik II: Kap02: Vektoralgebra](AGII_chap02_Vektoralgebra.ipynb)\n",
    "    - [Angewandte Geophysik II: Kap02: Potentiale](AGII_chap02_Potential.ipynb)\n",
    "    \n",
    "- Kapitel 03: Kugelfunktionen\n",
    "    - [Angewandte Geophysik II: Kap03: Kugelflaechenfunktionen](AGII_chap03_Kugelflaechenfunktionen.ipynb)\n",
    "    - [Angewandte Geophysik II: Kap03: Topographie](AGII_chap03_TopographyFromYlm.ipynb)\n",
    "    - [Angewandte Geophysik II: Kap03: Quadratische Gleichungen](AGII_chap03_QuadratischeGleichungen.ipynb)\n",
    "    - [Angewandte Geophysik II: Kap03: Kubische Gleichungen](AGII_chap03_KubischeGleichungen.ipynb)\n",
    "    \n",
    "- Kapitel 04: Grundgleichungen\n",
    "\n",
    "- Kapitel 05: Gravimetrie\n",
    "    - [Angewandte Geophysik II: Kap05: Normalschwere](AGII_chap05_Normalschwere.ipynb)\n",
    "    - [Angewandte Geophysik II: Kap05: Messmethoden](AGII_chap05_Messmethoden.ipynb)\n",
    "    - [Angewandte Geophysik II: Kap05: Schwere und Geoidkarten](AGII_chap05_GeoidFromYlm.ipynb)\n",
    "    - [Angewandte Geophysik II: Kap05: Modellierung Kugel](AGII_chap05_modelling_sphere.ipynb)\n",
    "    - [Angewandte Geophysik II: Kap05: Modellierung Zylinder](AGII_chap05_modelling_cylinder.ipynb)\n",
    "    - [Angewandte Geophysik II: Kap05: Modellierung Platte](AGII_chap05_modelling_plate.ipynb)\n",
    "    - [Angewandte Geophysik II: Kap05: Modellierung Störung](AGII_chap05_modelling_fault.ipynb)\n",
    "\n",
    "- Kapitel 06: Magnetik\n",
    "    - [Angewandte Geophysik II: Kap06: IGRF](AGII_chap06_IGRFfromYlm.ipynb)\n",
    "    - [Angewandte Geophysik II: Kap06: Magnetikmodellierung](AGII_chap06_magnetics.ipynb)\n",
    "    - [Angewandte Geophysik II: Kap06: Modellierung Monopol](AGII_chap06_modelling_monopole.ipynb)\n",
    "    - [Angewandte Geophysik II: Kap06: Modellierung Dipol](AGII_chap06_modelling_dipole.ipynb)\n",
    "- Kapitel 07: Geoelektrik\n",
    "- Kapitel 08: Georadar\n",
    "    - [Angewandte Geophysik II: Kap08: Laufzeitkurven](AGII_chap08_Laufzeitkurven.ipynb)\n",
    "- Kapitel 09: Filterung\n",
    "    - [Angewandte Geophysik II: Kap09: Vorwärtsmodellierung](AGII_chap09_Forwardmodel.ipynb)\n",
    "    - [Angewandte Geophysik II: Kap09: Brockenpluton](AGII_chap09_Brocken.ipynb)\n",
    "    - [Angewandte Geophysik II: Kap09: 1D Fouriertransformation](AGII_chap09_Fourier1D.ipynb)\n",
    "    - [Angewandte Geophysik II: Kap09: 2D Fouriertransformation](AGII_chap09_Fourier2D.ipynb)\n",
    "    - Brockenpluton\n",
    "        - [Create synthetic data](AGII_chap09_Brocken_irregular.ipynb)\n",
    "        - [Regular grid](AGII_chap09_Brocken_gridded.ipynb)\n",
    "        - [Trend analysis](AGII_chap09_Brocken_detrended.ipynb)\n",
    "        - [FFT: Upward continuation](AGII_chap09_Brocken_FFTupward.ipynb)\n",
    "        - [FFT: Horizontal derivatives](AGII_chap09_Brocken_FFThorizontalderivative.ipynb)\n",
    "        - [FFT: Vertical derivatives](AGII_chap09_Brocken_FFTverticalderivative.ipynb)\n",
    "        - [FFT: ...]\n",
    "- Kapitel 10: Modellierung (in prep.)\n",
    "    - [Angewandte Geophysik II: Kap10: Introduction](AGII_chap10_intro.ipynb)\n",
    "    - [Angewandte Geophysik II: Kap10: Gravity of simple sphere](AGII_chap10_sphere_grav.ipynb)\n",
    "    - [Angewandte Geophysik II: Kap10: Magnetics of simple sphere](AGII_chap10_sphere_mag.ipynb)\n",
    "    - [Angewandte Geophysik II: Kap10: Topography](AGII_chap10_topography.ipynb)\n",
    "    - [Angewandte Geophysik II: Kap10: Model](AGII_chap10_model.ipynb)\n",
    "    - [old](AGII_chap10_Cavity.ipynb)"
   ]
  },
  {
   "cell_type": "markdown",
   "metadata": {},
   "source": [
    "----"
   ]
  }
 ],
 "metadata": {
  "kernelspec": {
   "display_name": "Python 3 (ipykernel)",
   "language": "python",
   "name": "python3"
  },
  "language_info": {
   "codemirror_mode": {
    "name": "ipython",
    "version": 3
   },
   "file_extension": ".py",
   "mimetype": "text/x-python",
   "name": "python",
   "nbconvert_exporter": "python",
   "pygments_lexer": "ipython3",
   "version": "3.10.8"
  }
 },
 "nbformat": 4,
 "nbformat_minor": 1
}
