{
 "cells": [
  {
   "cell_type": "markdown",
   "metadata": {},
   "source": [
    "<table>\n",
    "<tr><td><img style=\"height: 150px;\" src=\"images/geo_hydro1.jpg\"></td>\n",
    "<td bgcolor=\"#FFFFFF\">\n",
    "    <p style=\"font-size: xx-large; font-weight: 900; line-height: 100%\">AG Dynamics of the Earth</p>\n",
    "    <p style=\"font-size: large; color: rgba(0,0,0,0.5);\">Jupyter notebooks</p>\n",
    "    <p style=\"font-size: large; color: rgba(0,0,0,0.5);\">Georg Kaufmann</p>\n",
    "    </td>\n",
    "</tr>\n",
    "</table>"
   ]
  },
  {
   "cell_type": "markdown",
   "metadata": {},
   "source": [
    "# Angewandte Geophysik II: Kap 1: Einführung\n",
    "# Komplexe Zahlen\n",
    "----\n",
    "*Georg Kaufmann,\n",
    "Geophysics Section,\n",
    "Institute of Geological Sciences,\n",
    "Freie Universität Berlin,\n",
    "Germany*"
   ]
  },
  {
   "cell_type": "code",
   "execution_count": 1,
   "metadata": {},
   "outputs": [],
   "source": [
    "import numpy as np\n",
    "import cmath"
   ]
  },
  {
   "cell_type": "markdown",
   "metadata": {},
   "source": [
    "# 1. Definition\n",
    "\n",
    "Was sind **komplexe Zahlen**?"
   ]
  },
  {
   "cell_type": "markdown",
   "metadata": {},
   "source": [
    "## Reelle Zahlen \n",
    "\n",
    "- Bisher kennen wir typische *reellen Zahlen*, z.B. \n",
    "\n",
    "$1., -5., 1.234, 10^{11}, \\pi,\\sqrt{2}$"
   ]
  },
  {
   "cell_type": "markdown",
   "metadata": {},
   "source": [
    "**Wurzel aus einer positiven Zahl**\n",
    "\n",
    "Normalerweise gilt\n",
    "$$\n",
    "\\begin{array}{rcl}\n",
    "2 \\times 2       &=& 2^2 = 4 \\\\\n",
    "(-2) \\times (-2) &=& (-2)^2 = 4\n",
    "\\end{array}\n",
    "$$\n",
    "d.h. das Quadrat zweier **positiver** Zahlen und das Quadrat zweier **negativer** Zahlen ist positiv.\n",
    "Das ist für uns auch nachvollziehbar, da die beiden Gleichungen oben die Lösung der Gleichung\n",
    "$$\n",
    "\\fbox{$x^2 -4 = 0$} \\to x^2=4\n",
    "$$\n",
    "sind. Wende die binomische Formel an: $x^0_{1,2} = \\pm \\sqrt{4}$:\n",
    "$$\n",
    "x^0_{1,2} = \\pm 2\n",
    "$$"
   ]
  },
  {
   "cell_type": "markdown",
   "metadata": {},
   "source": [
    "**Wurzel aus einer negativen Zahl**\n",
    "\n",
    "Was wäre aber, wenn wir folgende Gleichung lösen wollen:\n",
    "$$\n",
    "\\fbox{$x^2 + 4 = 0$} \\to x^2 = -4\n",
    "$$\n",
    "Unsere Lösung wäre dann\n",
    "$$\n",
    "x^0_{1,2}=\\pm \\sqrt{-4}\n",
    "$$\n",
    "Aber können wir die Wurzel aus einer negativen Zahl berechnen?\n",
    "\n",
    "Versuchen wir es, berechnen wir $\\sqrt{+4}$ und $\\sqrt{-4}$:"
   ]
  },
  {
   "cell_type": "code",
   "execution_count": 2,
   "metadata": {},
   "outputs": [
    {
     "name": "stdout",
     "output_type": "stream",
     "text": [
      "2.0\n",
      "nan\n"
     ]
    },
    {
     "name": "stderr",
     "output_type": "stream",
     "text": [
      "/var/folders/g1/lkn34rdd3158l1w_kz2l0dt80000gn/T/ipykernel_1854/2639709518.py:2: RuntimeWarning: invalid value encountered in sqrt\n",
      "  print(np.sqrt(-4))\n"
     ]
    }
   ],
   "source": [
    "print(np.sqrt(4))\n",
    "print(np.sqrt(-4))"
   ]
  },
  {
   "cell_type": "markdown",
   "metadata": {},
   "source": [
    "Klappt nur bei der **positiven** Zahl ...\n",
    "\n",
    "Also brauchen wir die Hilfe der **komplexen Zahlen**!"
   ]
  },
  {
   "cell_type": "markdown",
   "metadata": {},
   "source": [
    "## Imaginäre Einheit $i$\n",
    "\n",
    "Wir definieren:\n",
    "$$\n",
    "i = \\sqrt{-1}\n",
    "$$\n",
    "als **imaginäre Einheit**. Es gilt also:\n",
    "$$\n",
    "i^2 = -1\n",
    "$$"
   ]
  },
  {
   "cell_type": "code",
   "execution_count": 3,
   "metadata": {},
   "outputs": [
    {
     "name": "stdout",
     "output_type": "stream",
     "text": [
      "i:    1j\n",
      "i^2:  (-1+0j)\n",
      "nan\n",
      "2j\n"
     ]
    },
    {
     "name": "stderr",
     "output_type": "stream",
     "text": [
      "/var/folders/g1/lkn34rdd3158l1w_kz2l0dt80000gn/T/ipykernel_1854/4097497147.py:4: RuntimeWarning: invalid value encountered in sqrt\n",
      "  print (np.sqrt(-4.))\n"
     ]
    }
   ],
   "source": [
    "# imaginary unit\n",
    "print ('i:   ',1j)\n",
    "print ('i^2: ',1j**2)\n",
    "print (np.sqrt(-4.))\n",
    "print (cmath.sqrt(-4.))"
   ]
  },
  {
   "cell_type": "markdown",
   "metadata": {},
   "source": [
    "## Komplexe Zahlen\n",
    "\n",
    "- Wir definieren **komplexe Zahlen**, die aus einem **reellen** Teil und einem **imaginären** Teil bestehen, z.B.\n",
    "\n",
    "$1+i, -5+3i, 1.234 + 1.234i$\n",
    "\n",
    "Das $i$ bedeutet, multipliziere die Zahl mit $\\sqrt{-1}$!"
   ]
  },
  {
   "cell_type": "markdown",
   "metadata": {},
   "source": [
    "Ein paar Beispiele:\n",
    "$$\n",
    "\\begin{array}{rcl}\n",
    "a &=& 1. \\\\\n",
    "b &=& 1.+0i \\\\\n",
    "c &=& 1.+i \\\\\n",
    "d &=& i\n",
    "\\end{array}\n",
    "$$\n",
    "Hierbei ist $a$ reell, $b$ komplex geschrieben mit nur einem reellen Teil, $c$ komplex, und \n",
    "$d$ komplex mit nur einem imaginären Teil. \n",
    "\n",
    "Wir testen:"
   ]
  },
  {
   "cell_type": "code",
   "execution_count": 4,
   "metadata": {},
   "outputs": [
    {
     "name": "stdout",
     "output_type": "stream",
     "text": [
      "a,b,c,d:          1.0 (1+0j) (1+1j) 1j\n",
      "<class 'float'> <class 'complex'> <class 'complex'> <class 'complex'>\n",
      "a^2,b^2,c^2,d^2:  1.0 (1+0j) 2j (-1+0j)\n",
      "<class 'float'> <class 'complex'> <class 'complex'> <class 'complex'>\n"
     ]
    }
   ],
   "source": [
    "# define four scalars\n",
    "a = 1.\n",
    "b = 1. + 0j\n",
    "c = 1. + 1j\n",
    "d = 0. + 1j\n",
    "\n",
    "print ('a,b,c,d:         ',a,b,c,d)\n",
    "print (type(a),type(b),type(c),type(d))\n",
    "print ('a^2,b^2,c^2,d^2: ',a**2,b**2,c**2,d**2)\n",
    "print (type(a**2),type(b**2),type(c**2),type(d**2))\n",
    "#print ('Re(b),Im(b):     ',b.real,b.imag)"
   ]
  },
  {
   "cell_type": "markdown",
   "metadata": {},
   "source": [
    "# 2. Komplexe Ebene\n",
    "\n",
    "Eine komplexe Zahl können wir in der *komplexen Ebene* darstellen.\n",
    "<img src=figures/cmplx_coord.jpg style=width:6cm>"
   ]
  },
  {
   "cell_type": "markdown",
   "metadata": {},
   "source": [
    "# 3. Operationen\n",
    "\n",
    "## Addition\n",
    "\n",
    "Beim addieren zweier komplexer Zahlen werden die Realteile und die Imaginärteile **getrennt** addiert:\n",
    "$$\n",
    "(a+bi) + (c+di) = (a+c) + (b+d)i\n",
    "$$"
   ]
  },
  {
   "cell_type": "markdown",
   "metadata": {},
   "source": [
    "Ein Beispiel:\n",
    "$$\n",
    "(2+2i) + (3+2i) = (2+3) + (2+2)i = 5+4i\n",
    "$$\n",
    "<img src=figures/cmplx_add1.jpg style=width:6cm>"
   ]
  },
  {
   "cell_type": "markdown",
   "metadata": {},
   "source": [
    "Ein weiteres Beispiel:\n",
    "$$\n",
    "(2+2i) + (3-2i) = (2+3) + (2-2)i = 5\n",
    "$$\n",
    "<img src=figures/cmplx_add2.jpg style=width:6cm>\n",
    "\n",
    "Bei der letzten Gleichung haben wir zwei komplexe Zahlen addiert, das Ergebnis aber ist eine reelle Zahl!"
   ]
  },
  {
   "cell_type": "code",
   "execution_count": 5,
   "metadata": {},
   "outputs": [
    {
     "name": "stdout",
     "output_type": "stream",
     "text": [
      "(5+4j)\n",
      "(5+0j)\n"
     ]
    }
   ],
   "source": [
    "# add complex numbers\n",
    "a = 2 + 2j\n",
    "b = 3 + 2j\n",
    "print(a+b)\n",
    "\n",
    "a = 2 + 2j\n",
    "b = 3 - 2j\n",
    "print(a+b)"
   ]
  },
  {
   "cell_type": "markdown",
   "metadata": {},
   "source": [
    "## Multiplikation\n",
    "\n",
    "Beim Multiplizieren zweier komplexer Zahlen multiplizieren wir die beiden Terme aus:\n",
    "$$\n",
    "\\begin{array}{rcl}\n",
    "(a+bi) (c+di) &=& ac + adi + bci + bdi^2 \\\\\n",
    "                     &=& (ac-bd) + (ad+bc)i\n",
    "\\end{array}\n",
    "$$\n",
    "\n"
   ]
  },
  {
   "cell_type": "markdown",
   "metadata": {},
   "source": [
    "Ein Beispiel:\n",
    "$$\n",
    "\\begin{array}{rcl}\n",
    "(3+2i) (1+1i) &=& (3 \\times 1 - 2 \\times 1) + (3 \\times 1 + 2 \\times 1)i \\\\\n",
    "              &=& (3-2) + (3+2)i \\\\\n",
    "              &=& 1+5i\n",
    "\\end{array}\n",
    "$$"
   ]
  },
  {
   "cell_type": "markdown",
   "metadata": {},
   "source": [
    "Ein weiteres Beispiel (mit $i$):\n",
    "$$\n",
    "\\begin{array}{rcl}\n",
    "i^2 = (0+1i)^2 &=& (0+1i)(0+1i) \\\\\n",
    "              &=& (0 \\times 0 - 1 \\times 1) + (0 \\times 1 + 1 \\times 0)i \\\\\n",
    "              &=& -1 + 0i \\\\\n",
    "              &=& -1\n",
    "\\end{array}\n",
    "$$"
   ]
  },
  {
   "cell_type": "code",
   "execution_count": null,
   "metadata": {},
   "outputs": [],
   "source": [
    "# multiply complex numbers\n",
    "a = 3 + 2j\n",
    "b = 1 + 1j\n",
    "print (a*b)"
   ]
  },
  {
   "cell_type": "markdown",
   "metadata": {},
   "source": [
    "Noch ein Beispiel:\n",
    "$$\n",
    "\\begin{array}{rcl}\n",
    "(3+3i) i &=& (3i + 3i^2) \\\\\n",
    "         &=& -3 + 3i\n",
    "\\end{array}\n",
    "$$\n",
    "und weiter ...\n",
    "$$\n",
    "\\begin{array}{rcl}\n",
    "(-3+3i) i &=& (-3i + 3i^2) \\\\\n",
    "          &=& -3 - 3i\n",
    "\\end{array}\n",
    "$$\n",
    "<img src=figures/cmplx_mult.jpg style=width:6cm>\n",
    "\n",
    "Die Multiplikation mit $i$ dreht die komplexe Zahl im positiven Sinn im Koordinatensystem!"
   ]
  },
  {
   "cell_type": "code",
   "execution_count": null,
   "metadata": {},
   "outputs": [],
   "source": [
    "# multiply complex numbers\n",
    "a = 3 + 3j\n",
    "print ('a: ',a)\n",
    "b = a*1j\n",
    "print ('b: ',b)\n",
    "c = b*1j\n",
    "print ('c: ',c)\n",
    "d = c*1j\n",
    "print ('d: ',d)\n",
    "e = d*1j\n",
    "print ('e: ',e)\n",
    "#print(c*1j,(c*1j)*1j)"
   ]
  },
  {
   "cell_type": "markdown",
   "metadata": {},
   "source": [
    "## Konjugiert komplexe Zahlen\n",
    "\n",
    "Die  konjugiert komplexe Zahl $a^*$ der komplexen Zahl $a$ wird definiert durch vertauschen des Vorzeichens von dem imaginären Anteil:\n",
    "$$\n",
    "\\begin{array}{rcl}\n",
    "a   &=& 3 + 3i \\\\\n",
    "a^* &=& 3 - 3i\n",
    "\\end{array}\n",
    "$$\n",
    "\n",
    "Was bedeutet die konjugiert komplexe Zahl graphisch?"
   ]
  },
  {
   "cell_type": "code",
   "execution_count": null,
   "metadata": {},
   "outputs": [],
   "source": [
    "# calculate conjugate of complex number\n",
    "a = 3 + 3j\n",
    "ac = np.conj(a)\n",
    "print ('a:  ',a)\n",
    "print ('a*:  ',ac)"
   ]
  },
  {
   "cell_type": "markdown",
   "metadata": {},
   "source": [
    "## Division\n",
    "\n",
    "Die Division zweier komplexer Zahlen $a$ und $b$ kann durch die konjugierte berechnet werden:\n",
    "$$\n",
    "\\begin{array}{rcl}\n",
    "a &=& 2 + 3i \\\\\n",
    "b &=& 4 − 5i\n",
    "\\end{array}\n",
    "$$\n",
    "\n",
    "Bereche ${{a}\\over{b}}$ durch Erweitern mit der komplex konjugierten von $b$, $b^*$:\n",
    "$$\n",
    "{{a}\\over{b}}\n",
    "= {{2+3i}\\over{4-5i}}\n",
    "= {{2+3i}\\over{4-5i}} \\cdot {{4+5i}\\over{4+5i}}\n",
    "= {{8+10i+12i+15i^2}\\over{16+20i−20i−25i^2}}\n",
    "= {{8+10i+12i−15}\\over{16+20i−20i+25}}\n",
    "= {{−7 + 22i}\\over{41}}\n",
    "= {{-7}\\over{41}} + {{22}\\over{41}}i\n",
    "\\simeq -0.17 + 0.54i\n",
    "$$"
   ]
  },
  {
   "cell_type": "code",
   "execution_count": null,
   "metadata": {},
   "outputs": [],
   "source": [
    "# divide complex numbers\n",
    "a = 2 + 3j\n",
    "b = 4 - 5j\n",
    "c = a/b\n",
    "print ('a:  ',a)\n",
    "print ('b:  ',b)\n",
    "print ('c:  ',c)\n",
    "#print (\"%s %7.2f %7.2fi\" % ('c:  ',c.real,c.imag))"
   ]
  },
  {
   "cell_type": "markdown",
   "metadata": {},
   "source": [
    "## Betrag\n",
    "\n",
    "Der Betrag einer komplexen Zahl $a=2+i$ ist definiert als:\n",
    "$$\n",
    "|a| = |2+1i| = \\sqrt{2^2 + 1^2} = \\sqrt{4+1} = \\sqrt{5}\n",
    "$$\n",
    "Es werden also Real- und Imaginärteil quadriert und dann die Wurzel gezogen. Der Betrag entspricht der *Länge*\n",
    "des Vektors der komplexen Zahl im Koordinatensystem."
   ]
  },
  {
   "cell_type": "code",
   "execution_count": null,
   "metadata": {},
   "outputs": [],
   "source": [
    "# Absolute value of complex numbers\n",
    "import numpy as np\n",
    "a = 2 +1j\n",
    "print(abs(a),np.sqrt(5))"
   ]
  },
  {
   "cell_type": "markdown",
   "metadata": {},
   "source": [
    "---\n",
    "# 4. Euler-Gleichung"
   ]
  },
  {
   "cell_type": "markdown",
   "metadata": {},
   "source": [
    "Die *Euler*-Gleichung lautet:\n",
    "$$\n",
    "e^{i\\pi}+1=0\n",
    "$$\n",
    "Diese Gleichung kombiniert die\n",
    "- Euler'sche Zahl $e$\n",
    "- Die imaginäre Einheit $i$\n",
    "- Pi $\\pi$\n",
    "- Null und Eins: 0, 1\n",
    "\n",
    "Warum?"
   ]
  },
  {
   "cell_type": "markdown",
   "metadata": {},
   "source": [
    "Entwickle $e^x$ in eine *Taylor-Serie* am Punkt $x=0$:\n",
    "$$\n",
    "e^x = 1 + x + {{x^2} \\over {2!}} + {{x^3} \\over {3!}} + {{x^4} \\over {4!}} + {{x^5} \\over {5!}} + \\dots\n",
    "$$"
   ]
  },
  {
   "cell_type": "markdown",
   "metadata": {},
   "source": [
    "Ersetze den Exponenten $x$ durch $ix$:\n",
    "$$\n",
    "e^{ix} = 1 + {ix} + {{{(ix)}^2} \\over {2!}} + {{{(ix)}^3} \\over {3!}} + {{{(ix)}^4} \\over {4!}} + {{{(ix)}^5} \\over {5!}} + \\dots\n",
    "$$"
   ]
  },
  {
   "cell_type": "markdown",
   "metadata": {},
   "source": [
    "Wir nutzen die Definition der imaginären Einheit, $i^2=-1$, und es folgt\n",
    "$$\n",
    "e^{ix} = 1 + {ix} - {{x^2} \\over {2!}} + {{{(ix)}^3} \\over {3!}} + {{x^4} \\over {4!}} + {{{(ix)}^5} \\over {5!}} + \\dots\n",
    "$$"
   ]
  },
  {
   "cell_type": "markdown",
   "metadata": {},
   "source": [
    "Sortieren nach realen und komplexen Termen:\n",
    "$$\n",
    "e^{ix} = \\left( 1 - {{x^2} \\over {2!}} + {{x^4} \\over {4!}} - \\dots \\right) \n",
    "       + i \\left( x - {{x^3} \\over {3!}} + {{x^5} \\over {5!}} - \\dots \\right) \n",
    "$$"
   ]
  },
  {
   "cell_type": "markdown",
   "metadata": {},
   "source": [
    "Wir vergleichen die beiden Klammerausdrücke mit den *Taylor-Serien* von Sinus und Cosinus:\n",
    "$$\n",
    "\\begin{array}{rcl}\n",
    "\\cos x &=& \\left( 1 - {{x^2} \\over {2!}} + {{x^4} \\over {4!}} - \\dots \\right) \\\\\n",
    "\\sin x &=& \\left( x - {{x^3} \\over {3!}} + {{x^5} \\over {5!}} - \\dots \\right)\n",
    "\\end{array}\n",
    "$$"
   ]
  },
  {
   "cell_type": "markdown",
   "metadata": {},
   "source": [
    "Es folgt durch Einsetzen der trigonometrischen Terme:\n",
    "$$\n",
    "e^{ix} = \\cos x + i \\sin x\n",
    "$$"
   ]
  },
  {
   "cell_type": "markdown",
   "metadata": {},
   "source": [
    "Nutze $x=\\pi$:\n",
    "$$\n",
    "e^{i\\pi} = \\cos \\pi + i \\sin \\pi = -1\n",
    "$$\n",
    "et voila ...\n",
    "$$e^{i\\pi} + 1 = 0\n",
    "$$\n"
   ]
  },
  {
   "cell_type": "markdown",
   "metadata": {},
   "source": [
    "***\n",
    "## Aufgaben\n",
    "\n",
    "- **Aufgabe 1.1: Arithmetische Operationen** \n",
    "\n",
    "Folgende komplexe Zahlen sind gegeben: \n",
    " $$\n",
    " \\begin{array}{rcl} \n",
    " c_1&=&3-5i \\\\ c_2&=&-3+4i \\\\ c_3&=&\\sqrt{2}+2i \\\\ c_4&=&\\sqrt{2}-3i\n",
    " \\end{array}\n",
    " $$\n",
    " \n",
    " - Zeichnen Sie die vier Zahlen in ein Koordinatensystem (2P).\n",
    " - Berechnen Sie: $c_1+c_2$, $c_3-c_1$, $c_3 \\cdot c_4$ (2P).\n",
    " - Schreiben Sie die allgemeine Formel zur Multiplikation komplexer Zahlen auf (2P).\n",
    " - Bilden Sie die komplex konjugierten Zahlen von $c_1$, $c_2$, $c_3$ und $c_4$ (2P).\n"
   ]
  },
  {
   "cell_type": "markdown",
   "metadata": {},
   "source": [
    "***\n",
    "## Komplexe Zahlen können auch schön  sein ...\n",
    "\n",
    "Die Mandelbrot-Menge."
   ]
  },
  {
   "cell_type": "code",
   "execution_count": 6,
   "metadata": {},
   "outputs": [
    {
     "data": {
      "application/vnd.jupyter.widget-view+json": {
       "model_id": "fa18fe10ad9e4194b29d441a55f94194",
       "version_major": 2,
       "version_minor": 0
      },
      "text/plain": [
       "interactive(children=(FloatSlider(value=-2.0, continuous_update=False, description='xmin', max=0.5, min=-2.0, …"
      ]
     },
     "execution_count": 6,
     "metadata": {},
     "output_type": "execute_result"
    }
   ],
   "source": [
    "%matplotlib inline\n",
    "import numpy as np\n",
    "import matplotlib.pyplot as plt\n",
    "from matplotlib import colors\n",
    "from ipywidgets import interactive, fixed\n",
    "import ipywidgets as widgets\n",
    "\n",
    "def mandelbrot(c,maxiter):\n",
    "    z = 0\n",
    "    for n in range(maxiter):\n",
    "        if abs(z) > 2:\n",
    "            return n\n",
    "        z = z*z + c\n",
    "    return 0\n",
    "\n",
    "def mandelbrot_set(xmin,xmax,ymin,ymax,width,height,maxiter):\n",
    "    r1 = np.linspace(xmin, xmax, width)\n",
    "    r2 = np.linspace(ymin, ymax, height)\n",
    "    n3 = np.empty((width,height))\n",
    "    for i in range(width):\n",
    "        for j in range(height):\n",
    "            n3[i,j] = mandelbrot(r1[i] + 1j*r2[j],maxiter)\n",
    "    return (r1,r2,n3)\n",
    "\n",
    "def mandelbrot_image(xmin,xmax,ymin,ymax,width=10,height=10,maxiter=64,cmap='jet'):\n",
    "    dpi = 72\n",
    "    img_width = dpi * width\n",
    "    img_height = dpi * height\n",
    "    x,y,z = mandelbrot_set(xmin,xmax,ymin,ymax,img_width,img_height,maxiter)\n",
    "    \n",
    "    fig, ax = plt.subplots(figsize=(width, height),dpi=72)\n",
    "    ticks = np.arange(0,img_width,3*dpi)\n",
    "    x_ticks = xmin + (xmax-xmin)*ticks/img_width\n",
    "    plt.xticks(ticks, x_ticks)\n",
    "    y_ticks = ymin + (ymax-ymin)*ticks/img_width\n",
    "    plt.yticks(ticks, y_ticks)\n",
    "    ax.set_title(cmap)\n",
    "    ax.imshow(z.T,cmap=cmap,origin='lower')\n",
    "    plt.show()\n",
    "    \n",
    "#mandelbrot_image(-2.0,0.5,-1.25,1.25,cmap='hot')\n",
    "#mandelbrot_image(-0.74877,-0.74872,0.065053,0.065103,maxiter=1024,cmap='hot')\n",
    "\n",
    "# call interactive module\n",
    "interactive_plot = interactive(mandelbrot_image, \n",
    "                               xmin=widgets.FloatSlider(min=-2.0,max=0.5,step=0.25,value=-2.0,description='xmin',continuous_update=False),\n",
    "                               xmax=widgets.FloatSlider(min=-2.0,max=0.5,step=0.25,value=0.5,description='xmax',continuous_update=False),\n",
    "                               ymin=widgets.FloatSlider(min=-1.25,max=1.25,step=0.25,value=-1.25,description='ymin',continuous_update=False),\n",
    "                               ymax=widgets.FloatSlider(min=-1.25,max=1.25,step=0.25,value=1.25,description='ymax',continuous_update=False),\n",
    "                               width=fixed(10),height=fixed(10),\n",
    "                               maxiter=widgets.BoundedIntText(value=16,min=16,max=128,step=16,description='maxiter:'),\n",
    "                               cmap=widgets.Dropdown(options=['hot', 'jet', 'terrain'],value='hot',description='colormap:')\n",
    "                              )\n",
    "output = interactive_plot.children[-1]\n",
    "interactive_plot"
   ]
  },
  {
   "cell_type": "markdown",
   "metadata": {
    "collapsed": true
   },
   "source": [
    "Mandelbrotmenge als Reihe einer komplexen Zahl $z$:\n",
    "$$\n",
    "z_{i+1} = z_i^2 +c\n",
    "$$\n",
    "mit dem Startwert $z_0=0$ und der komplexen Zahl $c=x+yi$, die die Koordinate im komplexen Koordinatensystem abbildet.\n",
    "\n",
    "$$\n",
    "\\begin{array}{rclcl}\n",
    "z_0 &=& 0 && \\\\\n",
    "z_1 &=& 0^2+c &=& c \\\\\n",
    "z_2 &=& c^2+c &=& c^3 \\\\\n",
    "\\dots &&&& \\\\\n",
    "z_{n+1} &=& z_n^2 +c &&\n",
    "\\end{array}\n",
    "$$\n",
    "Die Reihe bleibt endlich, wenn $|z|\\le 2$ ist (Apfelmännchen), für $|z|>2$ divergiert die Reihe."
   ]
  }
 ],
 "metadata": {
  "kernelspec": {
   "display_name": "Python 3 (ipykernel)",
   "language": "python",
   "name": "python3"
  },
  "language_info": {
   "codemirror_mode": {
    "name": "ipython",
    "version": 3
   },
   "file_extension": ".py",
   "mimetype": "text/x-python",
   "name": "python",
   "nbconvert_exporter": "python",
   "pygments_lexer": "ipython3",
   "version": "3.10.8"
  }
 },
 "nbformat": 4,
 "nbformat_minor": 1
}
