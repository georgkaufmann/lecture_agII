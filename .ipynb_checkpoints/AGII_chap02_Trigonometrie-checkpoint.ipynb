{
 "cells": [
  {
   "cell_type": "markdown",
   "metadata": {},
   "source": [
    "<table>\n",
    "<tr><td><img style=\"height: 150px;\" src=\"images/geo_hydro1.jpg\"></td>\n",
    "<td bgcolor=\"#FFFFFF\">\n",
    "    <p style=\"font-size: xx-large; font-weight: 900; line-height: 100%\">AG Dynamics of the Earth</p>\n",
    "    <p style=\"font-size: large; color: rgba(0,0,0,0.5);\">Jupyter notebooks</p>\n",
    "    <p style=\"font-size: large; color: rgba(0,0,0,0.5);\">Georg Kaufmann</p>\n",
    "    </td>\n",
    "</tr>\n",
    "</table>"
   ]
  },
  {
   "cell_type": "markdown",
   "metadata": {},
   "source": [
    "# Angewandte Geophysik II: Kap 2: Potentialtheorie\n",
    "# Trigonometrische Funktionen\n",
    "----\n",
    "*Georg Kaufmann,\n",
    "Geophysics Section,\n",
    "Institute of Geological Sciences,\n",
    "Freie Universität Berlin,\n",
    "Germany*"
   ]
  },
  {
   "cell_type": "markdown",
   "metadata": {},
   "source": [
    "Die *Trigonometrie* beschäftigt sich mit der Vermessung von Dreiecken \n",
    "(aus dem Griechischen: trigonon-Dreieck; metron-Vermessung)"
   ]
  },
  {
   "cell_type": "markdown",
   "metadata": {},
   "source": [
    "## Allgemeines Dreieck\n",
    "\n",
    "Das Dreieck wird definiert über\n",
    "- Drei Punkte: A,B,C\n",
    "- Drei Seiten: a,b,c\n",
    "- Drei Winkel: $\\alpha, \\beta, \\gamma$\n",
    "\n",
    "<img src=figures/trig_triangle.jpg style=width:6cm>"
   ]
  },
  {
   "cell_type": "markdown",
   "metadata": {},
   "source": [
    "### Rechtwinkliges Dreieck\n",
    "\n",
    "Ist einer der Winkel 90 Grad, dann ist das Dreieck *rechtwinklig*.\n",
    "<img src=figures/trig_triangle_rect.jpg style=width:6cm>\n",
    "In diesem Fall ist die Seite $c$ die *Hypothenuse*, die Seiten $a$ und $b$  die *Katheden*."
   ]
  },
  {
   "cell_type": "markdown",
   "metadata": {},
   "source": [
    "In einem rechtwinkligen Dreieck können wir mit Hilfe der trigononetrischen Funktionen *Sinus*, \n",
    "*Cosinus* und *Tangens* Beziehungen zwischen Winkels und Seiten herstellen:\n",
    "$$\n",
    "\\begin{array}{rcl}\n",
    "\\sin \\alpha &=& {a \\over c} \\\\\n",
    "\\cos \\alpha &=& {b \\over c} \\\\\n",
    "\\tan \\alpha &=& {a \\over b}\n",
    "\\end{array}\n",
    "$$"
   ]
  },
  {
   "cell_type": "code",
   "execution_count": 1,
   "metadata": {},
   "outputs": [
    {
     "name": "stdout",
     "output_type": "stream",
     "text": [
      " a:       1.41\n",
      " b:       1.41\n",
      " c:       2.00\n"
     ]
    }
   ],
   "source": [
    "import numpy as np\n",
    "a = np.sqrt(2)\n",
    "b = np.sqrt(2)\n",
    "c = np.sqrt(a**2 + b**2)\n",
    "print (\" a: %10.2f\\n b: %10.2f\\n c: %10.2f\" % (a,b,c))"
   ]
  },
  {
   "cell_type": "markdown",
   "metadata": {},
   "source": [
    "## Polarkoordinaten\n",
    "\n",
    "Mit Hilfe der trigonometrischen Funktionen können wir Koordinaten *transformieren*. Als Beispiel wählen wir die **Polarkoordinaten**.\n",
    "<img src=figures/trig_polar.jpg style=width:6cm>"
   ]
  },
  {
   "cell_type": "markdown",
   "metadata": {},
   "source": [
    "Wir definieren die karthesischen Koordinaten $x$ und $y$:\n",
    "$$\n",
    "\\begin{array}{rcl}\n",
    " x &=& r \\cos(\\alpha) \\\\\n",
    " y &=& r \\sin(\\alpha)\n",
    "\\end{array}\n",
    "$$\n",
    "\n",
    "Umgekehrt gilt für die Polarkoordinaten $r$ und $\\alpha$:\n",
    "$$\n",
    "\\begin{array}{rcl}\n",
    " r      &=& \\sqrt{x^2 + y^2} \\\\\n",
    " \\alpha &=& \\arccos({x \\over r}) = \\arcsin({y \\over r}) = \\arctan({y \\over x})\n",
    "\\end{array}\n",
    "$$"
   ]
  },
  {
   "cell_type": "markdown",
   "metadata": {},
   "source": [
    "### Beziehungen im Dreieck"
   ]
  },
  {
   "cell_type": "markdown",
   "metadata": {},
   "source": [
    "- **Winkel**: Alle Winkel im Dreieck summieren sich auf zu 180$^{\\circ}$:\n",
    "$$\n",
    "\\alpha + \\beta + \\gamma = 180\n",
    "$$"
   ]
  },
  {
   "cell_type": "markdown",
   "metadata": {},
   "source": [
    "- **Pythagoras**: Wir nutzen den *Satz von Pythagoras* im rechtwickligen Dreieck:\n",
    "$$\n",
    "a^2 + b^2 = c^2\n",
    "$$\n",
    "Wenn wir diese Gleichung durch $c$ teilen, folgt\n",
    "$$\n",
    "({a \\over c})^2 + ({b \\over c})^2 = ({c \\over c})^2\n",
    "$$\n",
    "Wir identifizieren die Brüche als *Sinus* und *Cosinus*:\n",
    "$$\n",
    "\\sin^2 \\alpha + \\cos^2 \\alpha = 1\n",
    "$$"
   ]
  },
  {
   "cell_type": "markdown",
   "metadata": {
    "collapsed": true
   },
   "source": [
    "Weitere Identitäten:"
   ]
  },
  {
   "cell_type": "markdown",
   "metadata": {},
   "source": [
    "-**Gegenüberliegende Winkel**:\n",
    "$$\n",
    "\\begin{array}{rcl}\n",
    "\\sin(\\alpha) &=& -\\sin(-\\alpha) \\\\\n",
    "\\cos(\\alpha) &=& \\cos(-\\alpha) \\\\\n",
    "\\tan(\\alpha) &=& -\\tan(-\\alpha)\n",
    "\\end{array}\n",
    "$$"
   ]
  },
  {
   "cell_type": "markdown",
   "metadata": {},
   "source": [
    "- **Doppelte Winkel**:\n",
    "$$\n",
    "\\begin{array}{rcl}\n",
    "\\sin(2\\alpha) &=& 2 \\sin(\\alpha) \\cos(\\alpha) \\\\\n",
    "\\cos(2\\alpha) &=& \\cos^2(\\alpha) - \\sin^2(\\alpha) \\\\\n",
    "\\tan(2\\alpha) &=& {{2\\tan(\\alpha)} \\over {1-\\tan^2(\\alpha)}}\n",
    "\\end{array}\n",
    "$$"
   ]
  },
  {
   "cell_type": "markdown",
   "metadata": {},
   "source": [
    "- **Halbe Winkel**:\n",
    "$$\n",
    "\\begin{array}{rcl}\n",
    "\\sin({\\alpha \\over 2}) &=& \\pm \\sqrt{{{1-\\cos(\\alpha)} \\over {2}}}\\\\\n",
    "\\cos({\\alpha \\over 2}) &=& \\pm \\sqrt{{{1+\\cos(\\alpha)} \\over {2}}}\\\\\n",
    "\\tan({\\alpha \\over 2}) &=& \\pm \\sqrt{{{1-\\cos(\\alpha)} \\over {1+\\cos(\\alpha)}}}\n",
    "\\end{array}\n",
    "$$\n",
    "Das Vorzeichen hängt vom Winkel $\\alpha$ ab."
   ]
  },
  {
   "cell_type": "markdown",
   "metadata": {},
   "source": [
    "- **Winkelsummen**, **Winkeldifferencen**:\n",
    "$$\n",
    "\\begin{array}{rcl}\n",
    "\\sin(\\alpha \\pm \\beta) &=& \\sin(\\alpha) \\cos(\\beta) \\pm \\cos(\\alpha) \\sin(\\beta) \\\\\n",
    "\\cos(\\alpha \\pm \\beta) &=& \\cos(\\alpha) \\cos(\\beta) \\mp \\sin(\\alpha) \\sin(\\beta) \\\\\n",
    "\\tan(\\alpha \\pm \\beta) &=& {{\\tan(\\alpha) \\pm \\tan(\\beta)} \\over {1 \\mp \\tan(\\alpha) \\tan(\\beta)}}\n",
    "\\end{array}\n",
    "$$\n",
    "Beachte den Wechsel von $\\pm$ auf $\\mp$."
   ]
  },
  {
   "cell_type": "markdown",
   "metadata": {},
   "source": [
    "## Einheitskreis"
   ]
  },
  {
   "cell_type": "markdown",
   "metadata": {},
   "source": [
    "Wir setzen die Hypothenuse auf Eins, $c=1$, und den Punkt $A$ in den Urspung, und erhalten so den *Einheitskreis*.\n",
    "\n",
    "Wenn wir nun den Winkel $\\alpha$ von Null an beginnen zu rotieren in die positive Richtung, erzeugen wir die\n",
    "*Sinus*- und die *Cosinus*-Funktion.\n",
    "\n",
    "<img src=figures/trig_unitcircle.jpg style=width:10cm>"
   ]
  },
  {
   "cell_type": "markdown",
   "metadata": {},
   "source": [
    "## Harmonische Funktionen"
   ]
  },
  {
   "cell_type": "markdown",
   "metadata": {},
   "source": [
    "Da *Sinus*- und *Cosinus*-Funktion eine wiederkehrende Periodizität haben, nutzen wir sie als\n",
    "**harmonische Funktionen**. Wir definieren:\n",
    "\n",
    "- Amplitude $A$\n",
    "- Periode $B$\n",
    "- Phase $C$\n",
    "- Shift $D$\n",
    "\n",
    "$$\n",
    "y(t) = A \\sin\\left({{2\\pi t} \\over {B}} +C \\right) + D\n",
    "$$"
   ]
  },
  {
   "cell_type": "code",
   "execution_count": 2,
   "metadata": {},
   "outputs": [],
   "source": [
    "%matplotlib inline\n",
    "import numpy as np\n",
    "import matplotlib.pyplot as plt\n",
    "from ipywidgets import interactive\n",
    "import ipywidgets as widgets"
   ]
  },
  {
   "cell_type": "code",
   "execution_count": 7,
   "metadata": {},
   "outputs": [],
   "source": [
    "# define interval\n",
    "t = np.linspace(-np.pi,3*np.pi,101)\n",
    "\n",
    "A = 1\n",
    "B = 2*np.pi\n",
    "C = 0\n",
    "D = 0\n",
    "\n",
    "def plot_sinus(A,B,C,D):\n",
    "    # define function\n",
    "    y1 = A*np.sin(2*np.pi*t/B+C) + D\n",
    "    \n",
    "    # plot function\n",
    "    plt.figure(figsize=(12.0, 6.0))\n",
    "    plt.xlim([-np.pi,2*np.pi])\n",
    "    plt.xticks([-np.pi,0,np.pi,2*np.pi])\n",
    "    plt.plot([-np.pi,2*np.pi],[0,0],linestyle='dashed',color='grey')\n",
    "    plt.plot([0,0],[-1,1],linestyle='dashed',color='grey')\n",
    "    plt.plot(t,y1,linewidth=2,color='red')"
   ]
  },
  {
   "cell_type": "code",
   "execution_count": 8,
   "metadata": {},
   "outputs": [
    {
     "data": {
      "image/png": "[encoded data removed]",
      "text/plain": [
       "<Figure size 1200x600 with 1 Axes>"
      ]
     },
     "metadata": {},
     "output_type": "display_data"
    }
   ],
   "source": [
    "plot_sinus(A,B,C,D)"
   ]
  },
  {
   "cell_type": "code",
   "execution_count": 9,
   "metadata": {},
   "outputs": [
    {
     "data": {
      "application/vnd.jupyter.widget-view+json": {
       "model_id": "d99f98ecaefd43c8b3a8c9a84279dbf8",
       "version_major": 2,
       "version_minor": 0
      },
      "text/plain": [
       "interactive(children=(FloatSlider(value=1.0, description='Amplitude', max=3.0), FloatSlider(value=6.2831853071…"
      ]
     },
     "execution_count": 9,
     "metadata": {},
     "output_type": "execute_result"
    }
   ],
   "source": [
    "# call interactive module\n",
    "interactive_plot = interactive(plot_sinus, \n",
    "                    A=widgets.FloatSlider(min=0,max=3,step=0.1,value=1,description='Amplitude'),\n",
    "                    B=widgets.FloatSlider(min=np.pi,max=3*np.pi,step=np.pi/2,value=2*np.pi,description='Frequency'),\n",
    "                    C=widgets.FloatSlider(min=-3,max=3,step=0.1,value=0,description='Phase'),\n",
    "                    D=widgets.FloatSlider(min=0,max=3,step=0.1,value=0,description='Offset'),\n",
    "                              )\n",
    "output = interactive_plot.children[-1]\n",
    "interactive_plot"
   ]
  },
  {
   "cell_type": "markdown",
   "metadata": {
    "collapsed": true
   },
   "source": [
    "## Spektrum"
   ]
  },
  {
   "cell_type": "markdown",
   "metadata": {},
   "source": [
    "Wir haben gesehen, dass wir eine harmonische Funktion u.a. durch die Periode $B$ beschreiben können.\n",
    "\n",
    "Die Periode $B$ hängt mit der Frequenz $f$ zusammen:\n",
    "$$\n",
    "f = {{1}\\over{B}}\n",
    "$$"
   ]
  },
  {
   "cell_type": "markdown",
   "metadata": {},
   "source": [
    "Wir formulieren unsere Sinus-Funktion nun in eine *Zeitreihe* um, indem wir die Variable $x$ durch die Zeit $t$ ersetzen:\n",
    "$$\n",
    "f(t) = A \\sin\\left({{2\\pi t}\\over{B}} \\right)\n",
    "$$"
   ]
  },
  {
   "cell_type": "markdown",
   "metadata": {},
   "source": [
    "Wir setzen uns eine *Zeitreihe* zusammen aus zwei Sinusfunktionen, \n",
    "einmal mit der Frequenz $f_1=4$ Hz und der Amplitude $A_1=1$,\n",
    "einmal mit der Frequenz $f_2=7$ Hz und der Amplitude $A_2=0.5$:\n",
    "$$\n",
    "f(t) = A_1 \\sin(2\\pi f_1 t) + A_2 \\sin(2\\pi f_2 t)\n",
    "$$"
   ]
  },
  {
   "cell_type": "code",
   "execution_count": 10,
   "metadata": {},
   "outputs": [
    {
     "data": {
      "application/vnd.jupyter.widget-view+json": {
       "model_id": "9afaef4295aa4d04a8bab4a4f55620ee",
       "version_major": 2,
       "version_minor": 0
      },
      "text/plain": [
       "interactive(children=(FloatSlider(value=1.0, description='Amplitude 1', max=3.0), FloatSlider(value=0.5, descr…"
      ]
     },
     "execution_count": 10,
     "metadata": {},
     "output_type": "execute_result"
    }
   ],
   "source": [
    "def plot_timeseries(A1,A2,f1,f2,noise):\n",
    "    # define time series\n",
    "    rate = 120.0\n",
    "    t = np.arange(0, 10, 1/rate)\n",
    "    f = A1*np.sin(2*np.pi*f1*t) + A2*np.sin(2*np.pi*f2*t) + np.random.randn(len(t))*noise\n",
    "    # plot time series\n",
    "    plt.figure(figsize=(12.0, 6.0))\n",
    "    plt.xlim([0,10])\n",
    "    plt.xticks([0,2,4,6,8,10])\n",
    "    plt.xlabel('Time [s]')\n",
    "    plt.ylim([-3.5,3.5])\n",
    "    plt.yticks([-2,-1,0,1,2])\n",
    "    plt.plot(t,f)\n",
    "    plt.show()\n",
    "    \n",
    "# call interactive module\n",
    "interactive_plot = interactive(plot_timeseries, \n",
    "                    A1=widgets.FloatSlider(min=0,max=3,step=0.1,value=1,description='Amplitude 1'),\n",
    "                    A2=widgets.FloatSlider(min=0,max=3,step=0.1,value=0.5,description='Amplitude 2'),\n",
    "                    f1=widgets.IntSlider(min=1,max=10,step=1,value=4,description='Frequency 1'),\n",
    "                    f2=widgets.IntSlider(min=1,max=10,step=1,value=7,description='Frequency 2'),\n",
    "                    noise=widgets.FloatSlider(min=0,max=1,step=0.1,value=0.2,description='Noise'),\n",
    "                              )\n",
    "output = interactive_plot.children[-1]\n",
    "interactive_plot"
   ]
  },
  {
   "cell_type": "markdown",
   "metadata": {},
   "source": [
    "Wir nutzen die **eindimensionale reelle Fouriertransformation**, um das Spektrum dieser Zeitreihe zu analysieren."
   ]
  },
  {
   "cell_type": "code",
   "execution_count": 11,
   "metadata": {},
   "outputs": [
    {
     "data": {
      "application/vnd.jupyter.widget-view+json": {
       "model_id": "89cdb2008ef7467eb4dcc2ace915efe9",
       "version_major": 2,
       "version_minor": 0
      },
      "text/plain": [
       "interactive(children=(FloatSlider(value=1.0, description='Amplitude 1', max=3.0), FloatSlider(value=0.5, descr…"
      ]
     },
     "execution_count": 11,
     "metadata": {},
     "output_type": "execute_result"
    }
   ],
   "source": [
    "def plot_spectrum(A1,A2,f1,f2,noise):\n",
    "    # define time series\n",
    "    rate = 120.0\n",
    "    t = np.arange(0, 10, 1/rate)\n",
    "    x = A1*np.sin(2*np.pi*f1*t) + A2*np.sin(2*np.pi*f2*t) + np.random.randn(len(t))*noise\n",
    "    # calculate spektrum/power spectrum\n",
    "    p1 = np.abs(np.fft.rfft(x))\n",
    "    p2 = 20*np.log10(np.abs(np.fft.rfft(x)))\n",
    "    f = np.linspace(0, rate/2, len(p1))\n",
    "    # plot spectrum\n",
    "    plt.figure(figsize=(12.0, 6.0))\n",
    "    plt.xticks([0,4,7,10,15,20,25,30])\n",
    "    plt.xlabel('Frequency [Hz]')\n",
    "    plt.plot(f,p1,label='Spectrum')\n",
    "    plt.plot(f,p2,label='Spectrum (dB)')\n",
    "    plt.legend()\n",
    "    plt.show()\n",
    "\n",
    "# call interactive module\n",
    "interactive_plot = interactive(plot_spectrum, \n",
    "                    A1=widgets.FloatSlider(min=0,max=3,step=0.1,value=1,description='Amplitude 1'),\n",
    "                    A2=widgets.FloatSlider(min=0,max=3,step=0.1,value=0.5,description='Amplitude 2'),\n",
    "                    f1=widgets.IntSlider(min=1,max=10,step=1,value=4,description='Frequency 1'),\n",
    "                    f2=widgets.IntSlider(min=1,max=10,step=1,value=7,description='Frequency 2'),\n",
    "                    noise=widgets.FloatSlider(min=0,max=1,step=0.1,value=0.2,description='Noise'),\n",
    "                              )\n",
    "output = interactive_plot.children[-1]\n",
    "interactive_plot"
   ]
  },
  {
   "cell_type": "markdown",
   "metadata": {},
   "source": [
    "... done"
   ]
  }
 ],
 "metadata": {
  "kernelspec": {
   "display_name": "Python 3 (ipykernel)",
   "language": "python",
   "name": "python3"
  },
  "language_info": {
   "codemirror_mode": {
    "name": "ipython",
    "version": 3
   },
   "file_extension": ".py",
   "mimetype": "text/x-python",
   "name": "python",
   "nbconvert_exporter": "python",
   "pygments_lexer": "ipython3",
   "version": "3.10.6"
  }
 },
 "nbformat": 4,
 "nbformat_minor": 1
}
