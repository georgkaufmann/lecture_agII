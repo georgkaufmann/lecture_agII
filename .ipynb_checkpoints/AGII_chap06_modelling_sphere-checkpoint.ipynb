{
 "cells": [
  {
   "cell_type": "markdown",
   "metadata": {},
   "source": [
    "<table>\n",
    "<tr><td><img style=\"height: 150px;\" src=\"images/geo_hydro1.jpg\"></td>\n",
    "<td bgcolor=\"#FFFFFF\">\n",
    "    <p style=\"font-size: xx-large; font-weight: 900; line-height: 100%\">AG Dynamics of the Earth</p>\n",
    "    <p style=\"font-size: large; color: rgba(0,0,0,0.5);\">Juypter notebooks</p>\n",
    "    <p style=\"font-size: large; color: rgba(0,0,0,0.5);\">Georg Kaufmann</p>\n",
    "    </td>\n",
    "</tr>\n",
    "</table>"
   ]
  },
  {
   "cell_type": "markdown",
   "metadata": {},
   "source": [
    "# Angewandte Geophysik II: Kap 6: Magnetik\n",
    "# Magnetfeldmodellierung\n",
    "----\n",
    "*Georg Kaufmann,\n",
    "Geophysics Section,\n",
    "Institute of Geological Sciences,\n",
    "Freie Universität Berlin,\n",
    "Germany*"
   ]
  },
  {
   "cell_type": "code",
   "execution_count": 1,
   "metadata": {},
   "outputs": [],
   "source": [
    "import numpy as np\n",
    "import matplotlib.pyplot as plt\n",
    "import ipywidgets as widgets"
   ]
  },
  {
   "cell_type": "code",
   "execution_count": 2,
   "metadata": {},
   "outputs": [],
   "source": [
    "# define profile\n",
    "xmin  = -500.\n",
    "xmax  = +500.\n",
    "xstep = 101\n",
    "x = np.linspace(xmin,xmax,xstep)"
   ]
  },
  {
   "cell_type": "markdown",
   "metadata": {},
   "source": [
    "For the **magnetic induction** $\\vec{B}$ [T], we define\n",
    "$$\n",
    "\\vec{B} = \\mu_0 \\vec{H}\n",
    "$$\n",
    "with $\\mu_0=4 \\pi \\times 10^{-7}$ Vs/A/m the **permeability of vacuum**, \n",
    "and $\\vec{H}$ [A/m] the **magnetic field strength**.\n",
    "\n",
    "For the **magnetisation** $\\vec{M}$ [A/m] we define\n",
    "$$\n",
    "\\vec{M} = \\chi \\vec{H}\n",
    "$$\n",
    "with $\\chi$ [-] the **susceptibility**."
   ]
  },
  {
   "cell_type": "markdown",
   "metadata": {},
   "source": [
    "## Sphere\n",
    "\n",
    "<img src=figures/sketch_monopole.jpg style=width:10cm>\n",
    "\n",
    "$$\n",
    "\\begin{array}{rcl}\n",
    " B_z & = & \\frac{\\mu_0}{4\\pi} \\frac{M V}{z^3}\n",
    "           \\frac{1}{r_1}\n",
    "           \\left( 2 + \\frac{3 x}{z \\tan{\\alpha}} - \\frac{x^2}{z^2} \\right) \\\\\n",
    " B_x & = & \\frac{\\mu_0}{4\\pi} \\frac{M V}{z^3}\n",
    "           \\frac{1}{r_1}\n",
    "           \\left( \\frac{1}{\\tan{\\alpha}} \\frac{2 x^2}{z^2} + \\frac{3x}{z} \\right)\n",
    "\\end{array}\n",
    "$$"
   ]
  },
  {
   "cell_type": "code",
   "execution_count": 7,
   "metadata": {},
   "outputs": [],
   "source": [
    "def B_sphere(x,D=100.,R=20.,alpha=90.,M=0.04):\n",
    "    mu0 = 4.e-7*np.pi\n",
    "    r1  = np.sqrt((1. + x**2 / D**2)**5)\n",
    "    factor = mu0 / 4. / np.pi * M * 4. / 3. * np.pi * R**3 / D**3\n",
    "    # magnetic induction of sphere\n",
    "    Bx = factor * (((2.*x**2/D**2-1.)/np.tan(alpha*np.pi/180.) + 3.*x/D) / r1)\n",
    "    Bz = factor * ((2. + 3.*x/D/np.tan(alpha*np.pi/180.) - x**2 / D**2) / r1)\n",
    "    return Bx,Bz"
   ]
  },
  {
   "cell_type": "code",
   "execution_count": 17,
   "metadata": {},
   "outputs": [],
   "source": [
    "def plot_sphere(f1=False,f2=False,f3=False,f4=False,f5=False):\n",
    "    D = [100,100,100,100,100]\n",
    "    R = [20,30,40,30,30]\n",
    "    alpha = [90,90,90,90,90]\n",
    "    M = [0.04,0.04,0.04,0.02,0.08]\n",
    "    \n",
    "    fig,axs = plt.subplots(2,1,figsize=(12,8))\n",
    "    axs[0].set_xlim([-500,500])\n",
    "    axs[0].set_xticks([x for x in np.linspace(-400,400,9)])\n",
    "    axs[0].set_xlabel('Profile [m]')\n",
    "    axs[0].set_ylim([-1.5,2.5])\n",
    "    axs[0].set_yticks([y for y in np.linspace(-1.0,2.0,5)])\n",
    "    axs[0].set_ylabel('Bx,Bz [nT]')\n",
    "    axs[0].plot(x,1.e9*B_sphere(x)[0],linewidth=1.0,linestyle='-',color='black',label='B$_x$ - sphere')\n",
    "    axs[0].plot(x,1.e9*B_sphere(x)[1],linewidth=1.0,linestyle=':',color='black',label='B$_z$ - sphere')\n",
    "    if (f1):\n",
    "        axs[0].plot(x,1.e9*B_sphere(x,D=D[0],R=R[0],M=M[0],alpha=alpha[0])[0],linewidth=2.0,linestyle='-',color='black',\n",
    "                    label='D='+str(D[0])+',R='+str(R[0])+',M='+str(M[0])+',alpha='+str(alpha[0]))\n",
    "        axs[0].plot(x,1.e9*B_sphere(x,D=D[0],R=R[0],M=M[0],alpha=alpha[0])[1],linewidth=2.0,linestyle=':',color='black')\n",
    "    if (f2):\n",
    "        axs[0].plot(x,1.e9*B_sphere(x,D=D[1],R=R[1],M=M[1],alpha=alpha[1])[0],linewidth=2.0,linestyle='-',color='red',\n",
    "                    label='D='+str(D[1])+',R='+str(R[1])+',M='+str(M[1])+',alpha='+str(alpha[1]))\n",
    "        axs[0].plot(x,1.e9*B_sphere(x,D=D[1],R=R[1],M=M[1],alpha=alpha[1])[1],linewidth=2.0,linestyle=':',color='red')\n",
    "    if (f3):\n",
    "        axs[0].plot(x,1.e9*B_sphere(x,D=D[2],R=R[2],M=M[2],alpha=alpha[2])[0],linewidth=2.0,linestyle='-',color='orange',\n",
    "                    label='D='+str(D[2])+',R='+str(R[2])+',M='+str(M[2])+',alpha='+str(alpha[2]))\n",
    "        axs[0].plot(x,1.e9*B_sphere(x,D=D[2],R=R[2],M=M[2],alpha=alpha[2])[1],linewidth=2.0,linestyle=':',color='orange')\n",
    "    if (f4):\n",
    "        axs[0].plot(x,1.e9*B_sphere(x,D=D[3],R=R[3],M=M[3],alpha=alpha[3])[0],linewidth=2.0,linestyle='-',color='green',\n",
    "                    label='D='+str(D[3])+',R='+str(R[3])+',M='+str(M[3])+',alpha='+str(alpha[3]))\n",
    "        axs[0].plot(x,1.e9*B_sphere(x,D=D[3],R=R[3],M=M[3],alpha=alpha[3])[1],linewidth=2.0,linestyle=':',color='green')\n",
    "    if (f5):\n",
    "        axs[0].plot(x,1.e9*B_sphere(x,D=D[4],R=R[4],M=M[4],alpha=alpha[4])[0],linewidth=2.0,linestyle='-',color='blue',\n",
    "                    label='D='+str(D[4])+',R='+str(R[4])+',M='+str(M[4])+',alpha='+str(alpha[4]))\n",
    "        axs[0].plot(x,1.e9*B_sphere(x,D=D[4],R=R[4],M=M[4],alpha=alpha[4])[1],linewidth=2.0,linestyle=':',color='blue')\n",
    "    axs[0].legend()\n",
    "\n",
    "    axs[1].set_xlim([-500,500])\n",
    "    axs[1].set_xticks([x for x in np.linspace(-400,400,9)])\n",
    "    #axs[1].set_xlabel('Profile [m]')\n",
    "    axs[1].set_ylim([250,0])\n",
    "    axs[1].set_yticks([y for y in np.linspace(0.,200.,5)])\n",
    "    axs[1].set_ylabel('Depth [m]')\n",
    "    angle = [theta for theta in np.linspace(0,2*np.pi,41)]\n",
    "    if (f1):\n",
    "        axs[1].plot(R[0]*np.cos(angle),D[0]+R[0]*np.sin(angle),linewidth=2.0,linestyle='-',color='black')\n",
    "    if (f2):\n",
    "        axs[1].plot(R[1]*np.cos(angle),D[1]+R[1]*np.sin(angle),linewidth=2.0,linestyle='-',color='red')\n",
    "    if (f3):\n",
    "        axs[1].plot(R[2]*np.cos(angle),D[2]+R[2]*np.sin(angle),linewidth=2.0,linestyle='-',color='orange')\n",
    "    if (f4):\n",
    "        axs[1].plot(R[3]*np.cos(angle),D[3]+R[3]*np.sin(angle),linewidth=2.0,linestyle='-',color='green')\n",
    "    if (f5):\n",
    "        axs[1].plot(R[4]*np.cos(angle),D[4]+R[4]*np.sin(angle),linewidth=2.0,linestyle='-',color='blue')\n",
    "        "
   ]
  },
  {
   "cell_type": "code",
   "execution_count": 18,
   "metadata": {},
   "outputs": [
    {
     "data": {
      "image/png": "[encoded data removed]",
      "text/plain": [
       "<Figure size 864x576 with 2 Axes>"
      ]
     },
     "metadata": {
      "needs_background": "light"
     },
     "output_type": "display_data"
    }
   ],
   "source": [
    "plot_sphere(f2=True)"
   ]
  },
  {
   "cell_type": "code",
   "execution_count": 19,
   "metadata": {},
   "outputs": [
    {
     "data": {
      "application/vnd.jupyter.widget-view+json": {
       "model_id": "4b99a848e66f4d54ab64ff71899cceec",
       "version_major": 2,
       "version_minor": 0
      },
      "text/plain": [
       "HBox(children=(VBox(children=(Checkbox(value=True, description='eins'), Checkbox(value=False, description='zwe…"
      ]
     },
     "metadata": {},
     "output_type": "display_data"
    }
   ],
   "source": [
    "# call interactive module\n",
    "w = dict(\n",
    "f1=widgets.Checkbox(value=True,description='eins',continuous_update=False,disabled=False),\n",
    "#a1=widgets.FloatSlider(min=0.,max=2.,step=0.1,value=1.0),\n",
    "f2=widgets.Checkbox(value=False,description='zwei',continuous_update=False,disabled=False),\n",
    "f3=widgets.Checkbox(value=False,description='drei',continuous_update=False,disabled=False),\n",
    "f4=widgets.Checkbox(value=False,description='vier',continuous_update=False,disabled=False),\n",
    "f5=widgets.Checkbox(value=False,description='fuenf',continuous_update=False,disabled=False))\n",
    "output = widgets.interactive_output(plot_sphere, w)\n",
    "box = widgets.HBox([widgets.VBox([*w.values()]), output])\n",
    "display(box)"
   ]
  },
  {
   "cell_type": "markdown",
   "metadata": {},
   "source": [
    "... done"
   ]
  }
 ],
 "metadata": {
  "kernelspec": {
   "display_name": "Python 3",
   "language": "python",
   "name": "python3"
  },
  "language_info": {
   "codemirror_mode": {
    "name": "ipython",
    "version": 3
   },
   "file_extension": ".py",
   "mimetype": "text/x-python",
   "name": "python",
   "nbconvert_exporter": "python",
   "pygments_lexer": "ipython3",
   "version": "3.7.3"
  }
 },
 "nbformat": 4,
 "nbformat_minor": 1
}
