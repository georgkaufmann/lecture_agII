{
 "cells": [
  {
   "cell_type": "markdown",
   "metadata": {},
   "source": [
    "<table>\n",
    "<tr><td><img style=\"height: 150px;\" src=\"images/geo_hydro1.jpg\"></td>\n",
    "<td bgcolor=\"#FFFFFF\">\n",
    "    <p style=\"font-size: xx-large; font-weight: 900; line-height: 100%\">AG Dynamics of the Earth</p>\n",
    "    <p style=\"font-size: large; color: rgba(0,0,0,0.5);\">Jupyter notebooks</p>\n",
    "    <p style=\"font-size: large; color: rgba(0,0,0,0.5);\">Georg Kaufmann</p>\n",
    "    </td>\n",
    "</tr>\n",
    "</table>"
   ]
  },
  {
   "cell_type": "markdown",
   "metadata": {},
   "source": [
    "# Angewandte Geophysik II: Kap 6: Magnetik\n",
    "# Magnetfeldmodellierung\n",
    "----\n",
    "*Georg Kaufmann,\n",
    "Geophysics Section,\n",
    "Institute of Geological Sciences,\n",
    "Freie Universität Berlin,\n",
    "Germany*"
   ]
  },
  {
   "cell_type": "code",
   "execution_count": null,
   "metadata": {},
   "outputs": [],
   "source": [
    "import numpy as np\n",
    "import matplotlib.pyplot as plt\n",
    "import ipywidgets as widgets"
   ]
  },
  {
   "cell_type": "code",
   "execution_count": null,
   "metadata": {},
   "outputs": [],
   "source": [
    "# define profile\n",
    "xmin  = -500.\n",
    "xmax  = +500.\n",
    "xstep = 101\n",
    "x = np.linspace(xmin,xmax,xstep)"
   ]
  },
  {
   "cell_type": "markdown",
   "metadata": {},
   "source": [
    "For the **magnetic induction** $\\vec{B}$ [T], we define\n",
    "$$\n",
    "\\vec{B} = \\mu_0 \\vec{H}\n",
    "$$\n",
    "with $\\mu_0=4 \\pi \\times 10^{-7}$ Vs/A/m the **permeability of vacuum**, \n",
    "and $\\vec{H}$ [A/m] the **magnetic field strength**.\n",
    "\n",
    "For the **magnetisation** $\\vec{M}$ [A/m] we define\n",
    "$$\n",
    "\\vec{M} = \\chi \\vec{H}\n",
    "$$\n",
    "with $\\chi$ [-] the **susceptibility**."
   ]
  },
  {
   "cell_type": "markdown",
   "metadata": {},
   "source": [
    "## Monopole\n",
    "\n",
    "<img src=figures/sketch_monopole.jpg style=width:10cm>\n",
    "\n",
    "$$\n",
    "\\begin{array}{rcl}\n",
    " B_z & = & \\frac{\\mu_0}{4\\pi} M \\pi R^2 \\frac{z}{r^3} \\\\\n",
    " B_x & = & \\frac{\\mu_0}{4\\pi} M \\pi R^2 \\frac{x}{r^3}\n",
    "\\end{array}\n",
    "$$"
   ]
  },
  {
   "cell_type": "code",
   "execution_count": null,
   "metadata": {},
   "outputs": [],
   "source": [
    "def B_monopole(x,D=100.,R=40.,M=0.04):\n",
    "    mu0 = 4.e-7*np.pi\n",
    "    r   = np.sqrt(x**2 + D**2)\n",
    "    # magnetic induction of monopole\n",
    "    Bx = mu0 / 4. / np.pi * M * np.pi * R**2 * x / r**3\n",
    "    Bz = mu0 / 4. / np.pi * M * np.pi * R**2 * D / r**3\n",
    "    return Bx,Bz"
   ]
  },
  {
   "cell_type": "code",
   "execution_count": null,
   "metadata": {},
   "outputs": [],
   "source": [
    "def plot_monopole(f1=False,f2=False,f3=False,f4=False,f5=False):\n",
    "    D = [100,100,100,100,100]\n",
    "    R = [40,40,40,30,50]\n",
    "    M = [0.04,0.02,0.01,0.04,0.04]\n",
    "    \n",
    "    fig,axs = plt.subplots(2,1,figsize=(12,8))\n",
    "    axs[0].set_xlim([-500,500])\n",
    "    axs[0].set_xticks([x for x in np.linspace(-400,400,9)])\n",
    "    axs[0].set_xlabel('Profile [m]')\n",
    "    axs[0].set_ylim([-1.5,2.5])\n",
    "    axs[0].set_yticks([y for y in np.linspace(-1.0,2.0,5)])\n",
    "    axs[0].set_ylabel('Bx,Bz [nT]')\n",
    "    axs[0].plot(x,1.e9*B_monopole(x)[0],linewidth=1.0,linestyle='-',color='black',label='B$_x$ - monopole')\n",
    "    axs[0].plot(x,1.e9*B_monopole(x)[1],linewidth=1.0,linestyle=':',color='black',label='B$_z$ - monopole')\n",
    "    if (f1):\n",
    "        axs[0].plot(x,1.e9*B_monopole(x,D=D[0],R=R[0],M=M[0])[0],linewidth=2.0,linestyle='-',color='black',\n",
    "                    label='D='+str(D[0])+',R='+str(R[0])+',M='+str(M[0]))\n",
    "        axs[0].plot(x,1.e9*B_monopole(x,D=D[0],R=R[0],M=M[0])[1],linewidth=2.0,linestyle=':',color='black')\n",
    "    if (f2):\n",
    "        axs[0].plot(x,1.e9*B_monopole(x,D=D[1],R=R[1],M=M[1])[0],linewidth=2.0,linestyle='-',color='red',\n",
    "                    label='D='+str(D[1])+',R='+str(R[1])+',M='+str(M[1]))\n",
    "        axs[0].plot(x,1.e9*B_monopole(x,D=D[1],R=R[1],M=M[1])[1],linewidth=2.0,linestyle=':',color='red')\n",
    "    if (f3):\n",
    "        axs[0].plot(x,1.e9*B_monopole(x,D=D[2],R=R[2],M=M[2])[0],linewidth=2.0,linestyle='-',color='orange',\n",
    "                   label='D='+str(D[2])+',R='+str(R[2])+',M='+str(M[2]))\n",
    "        axs[0].plot(x,1.e9*B_monopole(x,D=D[2],R=R[2],M=M[2])[1],linewidth=2.0,linestyle=':',color='orange')\n",
    "    if (f4):\n",
    "        axs[0].plot(x,1.e9*B_monopole(x,D=D[3],R=R[3],M=M[3])[0],linewidth=2.0,linestyle='-',color='green',\n",
    "                   label='D='+str(D[3])+',R='+str(R[3])+',M='+str(M[3]))\n",
    "        axs[0].plot(x,1.e9*B_monopole(x,D=D[3],R=R[3],M=M[3])[1],linewidth=2.0,linestyle=':',color='green')\n",
    "    if (f5):\n",
    "        axs[0].plot(x,1.e9*B_monopole(x,D=D[4],R=R[4],M=M[4])[0],linewidth=2.0,linestyle='-',color='blue',\n",
    "                   label='D='+str(D[4])+',R='+str(R[4])+',M='+str(M[4]))\n",
    "        axs[0].plot(x,1.e9*B_monopole(x,D=D[4],R=R[4],M=M[4])[1],linewidth=2.0,linestyle=':',color='blue')\n",
    "    axs[0].legend()\n",
    "\n",
    "    axs[1].set_xlim([-500,500])\n",
    "    axs[1].set_xticks([x for x in np.linspace(-400,400,9)])\n",
    "    #axs[1].set_xlabel('Profile [m]')\n",
    "    axs[1].set_ylim([250,0])\n",
    "    axs[1].set_yticks([y for y in np.linspace(0.,200.,5)])\n",
    "    axs[1].set_ylabel('Depth [m]')\n",
    "    angle = [theta for theta in np.linspace(0,2*np.pi,41)]\n",
    "    if (f1):\n",
    "        axs[1].plot(R[0]*np.cos(angle),D[0]+R[0]*np.sin(angle),linewidth=2.0,linestyle='-',color='black')\n",
    "    if (f2):\n",
    "        axs[1].plot(R[1]*np.cos(angle),D[1]+R[1]*np.sin(angle),linewidth=2.0,linestyle='-',color='red')\n",
    "    if (f3):\n",
    "        axs[1].plot(R[2]*np.cos(angle),D[2]+R[2]*np.sin(angle),linewidth=2.0,linestyle='-',color='orange')\n",
    "    if (f4):\n",
    "        axs[1].plot(R[3]*np.cos(angle),D[3]+R[3]*np.sin(angle),linewidth=2.0,linestyle='-',color='green')\n",
    "    if (f5):\n",
    "        axs[1].plot(R[4]*np.cos(angle),D[4]+R[4]*np.sin(angle),linewidth=2.0,linestyle='-',color='blue')"
   ]
  },
  {
   "cell_type": "code",
   "execution_count": null,
   "metadata": {},
   "outputs": [],
   "source": [
    "plot_monopole(f1=True)"
   ]
  },
  {
   "cell_type": "code",
   "execution_count": null,
   "metadata": {},
   "outputs": [],
   "source": [
    "# call interactive module\n",
    "w = dict(\n",
    "f1=widgets.Checkbox(value=True,description='eins',continuous_update=False,disabled=False),\n",
    "#a1=widgets.FloatSlider(min=0.,max=2.,step=0.1,value=1.0),\n",
    "f2=widgets.Checkbox(value=False,description='zwei',continuous_update=False,disabled=False),\n",
    "f3=widgets.Checkbox(value=False,description='drei',continuous_update=False,disabled=False),\n",
    "f4=widgets.Checkbox(value=False,description='vier',continuous_update=False,disabled=False),\n",
    "f5=widgets.Checkbox(value=False,description='fuenf',continuous_update=False,disabled=False))\n",
    "output = widgets.interactive_output(plot_monopole, w)\n",
    "box = widgets.HBox([widgets.VBox([*w.values()]), output])\n",
    "display(box)"
   ]
  },
  {
   "cell_type": "markdown",
   "metadata": {},
   "source": [
    "... done"
   ]
  }
 ],
 "metadata": {
  "kernelspec": {
   "display_name": "Python 3 (ipykernel)",
   "language": "python",
   "name": "python3"
  },
  "language_info": {
   "codemirror_mode": {
    "name": "ipython",
    "version": 3
   },
   "file_extension": ".py",
   "mimetype": "text/x-python",
   "name": "python",
   "nbconvert_exporter": "python",
   "pygments_lexer": "ipython3",
   "version": "3.10.8"
  }
 },
 "nbformat": 4,
 "nbformat_minor": 1
}
