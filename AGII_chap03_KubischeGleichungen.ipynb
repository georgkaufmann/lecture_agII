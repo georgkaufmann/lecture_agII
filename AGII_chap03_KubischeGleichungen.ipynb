{
 "cells": [
  {
   "cell_type": "markdown",
   "metadata": {},
   "source": [
    "<table>\n",
    "<tr><td><img style=\"height: 150px;\" src=\"images/geo_hydro1.jpg\"></td>\n",
    "<td bgcolor=\"#FFFFFF\">\n",
    "    <p style=\"font-size: xx-large; font-weight: 900; line-height: 100%\">AG Dynamics of the Earth</p>\n",
    "    <p style=\"font-size: large; color: rgba(0,0,0,0.5);\">Juypter notebooks</p>\n",
    "    <p style=\"font-size: large; color: rgba(0,0,0,0.5);\">Georg Kaufmann</p>\n",
    "    </td>\n",
    "</tr>\n",
    "</table>"
   ]
  },
  {
   "cell_type": "markdown",
   "metadata": {},
   "source": [
    "# Angewandte Geophysik II: Kap 3: Kugelfunktionen\n",
    "# Kubische Gleichungen\n",
    "----\n",
    "*Georg Kaufmann,\n",
    "Geophysics Section,\n",
    "Institute of Geological Sciences,\n",
    "Freie Universität Berlin,\n",
    "Germany*"
   ]
  },
  {
   "cell_type": "markdown",
   "metadata": {},
   "source": [
    "Eine *kubische Gleichung* hat die Form:\n",
    "$$\n",
    "a x^3 + b x^2 + c x + d = 0\n",
    "$$\n",
    "mit $a$, $b$, $c$ und $d$ den Koeffizienten."
   ]
  },
  {
   "cell_type": "markdown",
   "metadata": {},
   "source": [
    "Dividieren wir die Gleichung durch $a$, folgt die *Normalenform*:\n",
    "$$\n",
    "x^3 + {b \\over a} x^2 + {c \\over a} x + {d \\over a} = 0\n",
    "$$"
   ]
  },
  {
   "cell_type": "markdown",
   "metadata": {},
   "source": [
    "## Zerlegung in Linearfaktoren\n",
    "\n",
    "Die *Kubische Gleichung* \n",
    "$$\n",
    "ax^3+bx^2+cx +d=0\n",
    "$$\n",
    "kann in *Linearfaktoren* zerlegt werden:\n",
    "$$\n",
    "a (x-x_1) (x-x_2) (x-x_3)= 0\n",
    "$$"
   ]
  },
  {
   "cell_type": "markdown",
   "metadata": {},
   "source": [
    "## Nullstellen\n",
    "\n",
    "Die Anzahl der Nullstellen kann durch die *Diskriminante* bestimmt werden:\n",
    "$$\n",
    "D=q^2 - 4p^3\n",
    "$$\n",
    "mit\n",
    "$$\n",
    "\\begin{array}{rcl}\n",
    "p &=& 3ac - b^2 \\\\\n",
    "q &=& 2b^3 - 9abc + 27a^2d\n",
    "\\end{array}\n",
    "$$\n",
    "\n",
    "Es gilt\n",
    "- $D>0$: Eine reelle Lösung $x_1$ und zwei komplexe Lösungen\n",
    "- $D=0$: Drei reelle Lösungen, mindestens zwei gleich $x_1$, $x_2$\n",
    "- $D<0$: Drei reelle Lösungen $x_1$, $x_2$, $x_3$"
   ]
  },
  {
   "cell_type": "code",
   "execution_count": 1,
   "metadata": {},
   "outputs": [
    {
     "data": {
      "application/vnd.jupyter.widget-view+json": {
       "model_id": "f7ca2ff496ad4179a357760166cf2ef3",
       "version_major": 2,
       "version_minor": 0
      },
      "text/plain": [
       "interactive(children=(FloatRangeSlider(value=(-4.0, 4.0), continuous_update=False, description='xmin', max=10.…"
      ]
     },
     "metadata": {},
     "output_type": "display_data"
    }
   ],
   "source": [
    "%matplotlib inline\n",
    "import numpy as np\n",
    "import cmath\n",
    "import matplotlib.pyplot as plt\n",
    "from ipywidgets import interactive, fixed\n",
    "import ipywidgets as widgets\n",
    "\n",
    "def f(x,a,b,c,d):\n",
    "    y = a*x**3 + b*x**2 + c*x + d\n",
    "    return y\n",
    "\n",
    "def plot_cubic(minmax,a,b,c,d):\n",
    "    xmin=minmax[0];xmax=minmax[1]\n",
    "    x = np.linspace(xmin,xmax,51)\n",
    "    # calculate determinant\n",
    "    p = 3*a*c - b**2\n",
    "    q = 2*b**3 - 9*a*b*c + 27*a**2*d\n",
    "    det=q**2 + 4*p**3\n",
    "    print ('det: ',det)\n",
    "    # get roots\n",
    "    x0 = np.roots([a,b,c,d])\n",
    "    print('roots: ',x0)\n",
    "    \n",
    "    plt.figure(figsize=(12.0, 8.0))\n",
    "    plt.plot([xmin,xmax],[0,0],linestyle='dashed',color='grey',linewidth=1)\n",
    "    plt.plot(x,f(x,a,b,c,d),linestyle='solid',color='red',linewidth=4,label='y')\n",
    "    plt.plot(x0,f(x0,a,b,c,d),linewidth='0',marker='.',markersize=40,label='Nullstellen')\n",
    "    plt.legend()\n",
    "    plt.show()\n",
    "    \n",
    "# call interactive module\n",
    "interactive_plot = interactive(plot_cubic, \n",
    "    minmax=widgets.FloatRangeSlider(min=-10,max=10,step=1,value=[-4,4],continuous_update=False,description='xmin'),\n",
    "    a=widgets.FloatSlider(min=-10,max=10,step=0.5,value=3,description='a'),\n",
    "    b=widgets.FloatSlider(min=-10,max=10,step=0.5,value=-8,description='b'),\n",
    "    c=widgets.FloatSlider(min=-10,max=10,step=0.5,value=-10,description='c'),\n",
    "    d=widgets.FloatSlider(min=-10,max=10,step=0.5,value=10,description='d'),\n",
    "    )\n",
    "output = interactive_plot.children[-1]\n",
    "interactive_plot"
   ]
  },
  {
   "cell_type": "markdown",
   "metadata": {},
   "source": [
    "## Lösungen\n",
    "\n",
    "Die Lösungen der kubischen Gleichung lassen sich folgendermaßen berechnen:\n",
    "\n",
    "- Numerisch (s.o.)"
   ]
  },
  {
   "cell_type": "code",
   "execution_count": null,
   "metadata": {},
   "outputs": [],
   "source": [
    "a = 3.\n",
    "b =-3.\n",
    "c =-10.\n",
    "d = 10.\n",
    "print('coeff: ',a,b,c,d)\n",
    "x0=np.roots([a,b,c,d])\n",
    "print('roots: ',x0)\n",
    "#for i in range(len(x0)):\n",
    "#    print(f(x0[i],a,b,c,d))"
   ]
  },
  {
   "cell_type": "markdown",
   "metadata": {},
   "source": [
    "- Analytisch\n",
    "\n",
    "Es gibt eine ganze Reihe von analytischen Lösungsverfahren für kubische Gleichungen. Viele führen \n",
    "das kubische Polynom zurück auf eine reduzierte Form (ohne den quadratischen Term).\n",
    "\n",
    "Eine Lösung (nutze komplexe Zahlen!):\n",
    "\n",
    "$$\n",
    "\\begin{array}{rcl}\n",
    "d_0 &=& b^2 - 3ac \\\\\n",
    "d_1 &=& 2b^3 -9abc + 27a^2d \\\\\n",
    "C   &=& \\left( \\frac{d_1 \\pm \\sqrt{d_1^2-4d_0^3}}{2} \\right)^{{1}\\over{3}} \\\\\n",
    "\\zeta &=& \\frac{-1 + \\sqrt{-3}}{2} \\\\\n",
    "x^0_k &=& -\\frac{1}{3a} \\left( b + \\zeta^k C + \\frac{d_0}{\\zeta^k C} \\right), k \\in[0,1,2]\n",
    "\\end{array}\n",
    "$$"
   ]
  },
  {
   "cell_type": "code",
   "execution_count": null,
   "metadata": {},
   "outputs": [],
   "source": [
    "d0 = b**2 - 3*a*c\n",
    "d1 = 2*b**3 -9*a*b*c + 27.*a**2*d\n",
    "C  = ((d1 + cmath.sqrt(d1**2-4.*d0**3))/2.)**(1./3.)\n",
    "zeta=(-1.+cmath.sqrt(-3.))/2.\n",
    "\n",
    "x0k = np.empty(3,dtype='complex')\n",
    "for k in range(3):\n",
    "    x0k[k] = -1./(3*a) * (b + zeta**k*C + d0/zeta**k/C)\n",
    "print(x0k.real)\n",
    "print(x0k.imag)"
   ]
  },
  {
   "cell_type": "markdown",
   "metadata": {},
   "source": [
    "## Beispiele"
   ]
  },
  {
   "cell_type": "code",
   "execution_count": null,
   "metadata": {},
   "outputs": [],
   "source": [
    "import numpy as np\n",
    "import cmath\n",
    "import matplotlib.pyplot as plt\n",
    "# define functions\n",
    "x = np.linspace(-10,10,41)\n",
    "y1 = x**3 + x**2 + 2*x - 35\n",
    "y2 = 0.2*x**3 + x**2 -4*x + 4\n",
    "y3 = 0.3*x**3 + x**2+12*x+37\n",
    "# plot functions\n",
    "plt.plot([-10,10],[0,0],linestyle='dashed',color='grey',linewidth=1)\n",
    "plt.plot(x,y1,linestyle='solid',color='red',linewidth=3,label='x$^3$+x$^2$+2x-35')\n",
    "plt.plot(x,y2,linestyle='solid',color='green',linewidth=3,label='0.2x$^3$+x$^2$-4x+4')\n",
    "plt.plot(x,y3,linestyle='solid',color='blue',linewidth=3,label='0.3x$^3$+x$^2$+12x+37')\n",
    "plt.legend()\n",
    "plt.show()"
   ]
  },
  {
   "cell_type": "markdown",
   "metadata": {
    "collapsed": true
   },
   "source": [
    "... done"
   ]
  }
 ],
 "metadata": {
  "kernelspec": {
   "display_name": "Python 3",
   "language": "python",
   "name": "python3"
  },
  "language_info": {
   "codemirror_mode": {
    "name": "ipython",
    "version": 3
   },
   "file_extension": ".py",
   "mimetype": "text/x-python",
   "name": "python",
   "nbconvert_exporter": "python",
   "pygments_lexer": "ipython3",
   "version": "3.7.3"
  }
 },
 "nbformat": 4,
 "nbformat_minor": 1
}
