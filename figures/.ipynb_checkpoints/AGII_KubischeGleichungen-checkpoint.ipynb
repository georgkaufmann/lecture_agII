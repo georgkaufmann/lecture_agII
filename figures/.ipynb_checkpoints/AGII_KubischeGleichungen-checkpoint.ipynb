{
 "cells": [
  {
   "cell_type": "markdown",
   "metadata": {},
   "source": [
    "# Kubische Gleichungen\n",
    "***"
   ]
  },
  {
   "cell_type": "markdown",
   "metadata": {},
   "source": [
    "Eine *kubische Gleichung* hat die Form:\n",
    "$$\n",
    "a x^3 + b x^2 + c x + d = 0\n",
    "$$\n",
    "mit $a$, $b$, $c$ und $d$ den Koeffizienten."
   ]
  },
  {
   "cell_type": "markdown",
   "metadata": {},
   "source": [
    "Dividieren wir die Gleichung durch $a$, folgt die *Normalenform*:\n",
    "$$\n",
    "x^3 + {b \\over a} x^2 + {c \\over a} x + {d \\over a} = 0\n",
    "$$"
   ]
  },
  {
   "cell_type": "markdown",
   "metadata": {},
   "source": [
    "## Zerlegung in Linearfaktoren\n",
    "\n",
    "Die *Kubische Gleichung* \n",
    "$$\n",
    "ax^3+bx^2+cx +d=0\n",
    "$$\n",
    "kann in *Linearfaktoren* zerlegt werden:\n",
    "$$\n",
    "a (x-x_1) (x-x_2) (x-x_3)= 0\n",
    "$$"
   ]
  },
  {
   "cell_type": "code",
   "execution_count": 3,
   "metadata": {
    "collapsed": true
   },
   "outputs": [],
   "source": [
    "%matplotlib inline"
   ]
  },
  {
   "cell_type": "code",
   "execution_count": 4,
   "metadata": {
    "collapsed": false
   },
   "outputs": [
    {
     "name": "stdout",
     "output_type": "stream",
     "text": [
      "det:  -16382088\n"
     ]
    },
    {
     "data": {
      "image/png": "[encoded data removed]",
      "text/plain": [
       "<matplotlib.figure.Figure at 0x111340f60>"
      ]
     },
     "metadata": {},
     "output_type": "display_data"
    }
   ],
   "source": [
    "import numpy as np\n",
    "import cmath\n",
    "import matplotlib.pyplot as plt\n",
    "# coefficients\n",
    "a = 3\n",
    "b = -8\n",
    "c = -11\n",
    "d = 10\n",
    "p = 3*a*c - b**2\n",
    "q = 2*b**3 - 9*a*b*c + 27*a**2*d\n",
    "# calculate determinant\n",
    "det=q**2 + 4*p**3\n",
    "print ('det: ',det)\n",
    "x = np.linspace(-2,4,41)\n",
    "y1 = a*x**3 + b*x**2 + c*x + d\n",
    "plt.plot([-2,4],[0,0],linestyle='dashed',color='grey',linewidth=1)\n",
    "plt.plot(x,y1,linestyle='solid',color='red',linewidth=4,label='y1')\n",
    "plt.show()"
   ]
  },
  {
   "cell_type": "markdown",
   "metadata": {},
   "source": [
    "Die Anzahl der Nullstellen kann durch die *Diskriminante* bestimmt werden:\n",
    "$$\n",
    "D=q^2 - 4p^3\n",
    "$$\n",
    "mit\n",
    "$$\n",
    "\\begin{array}{rcl}\n",
    "p &=& 3ac - b^2 \\\\\n",
    "q &=& 2b^3 - 9abc + 27a^2d\n",
    "\\end{array}\n",
    "$$\n",
    "\n",
    "Es gilt\n",
    "- $D>0$: Eine reelle Lösung $x_1$ und zwei komplexe Lösungen\n",
    "- $D=0$: Drei reelle Lösungen, mindestens zwei gleich $x_1$, $x_2$\n",
    "- $D<0$: Drei reelle Lösungen $x_1$, $x_2$, $x_3$"
   ]
  },
  {
   "cell_type": "markdown",
   "metadata": {},
   "source": [
    "**Ab hier nicht geändert!**\n",
    "\n",
    "Die Lösungen der quadratischen Gleichung lassen sich mit folgender Formel berechnen:\n",
    "$$\n",
    "x_{1,2} = {{-b \\pm \\sqrt{b^2 - 4ac}} \\over {2a}}\n",
    "$$"
   ]
  },
  {
   "cell_type": "code",
   "execution_count": 5,
   "metadata": {
    "collapsed": false
   },
   "outputs": [
    {
     "name": "stdout",
     "output_type": "stream",
     "text": [
      "Coefficients a,b,c:  1 0 -1\n",
      "Solutions x1/2:      1.0 -1.0\n"
     ]
    }
   ],
   "source": [
    "import numpy as np\n",
    "import cmath\n",
    "a = 1\n",
    "b = 0\n",
    "c = -1\n",
    "print ('Coefficients a,b,c: ',a,b,c)\n",
    "x1 = (-b+np.sqrt(b**2-4*a*c) / (2*a))\n",
    "x2 = (-b-np.sqrt(b**2-4*a*c) / (2*a))\n",
    "print ('Solutions x1/2:     ',x1,x2)\n"
   ]
  },
  {
   "cell_type": "markdown",
   "metadata": {},
   "source": [
    "Wie kommen wir auf die Lösungsformel?\n",
    "\n",
    "Starte mit der quadratischen Gleichung und ergänze, um eine binomische Formel zu bekommen:\n",
    "$$\n",
    "\\begin{array}{rcll}\n",
    "ax^2+bx+c    &=& 0      & | -c\\\\\n",
    "ax^2+bx      &=& -c     & |\\times 4a\\\\\n",
    "4a^2x^2+4abx &=& -4ac   & | +b^2 \\\\\n",
    "(2ax)^2 + 2 \\times 2abx + b^2 &=& b^2-4ac & | \\mbox{umformen auf bin. Formel}\\\\\n",
    "(2ax+b)^2    &=& b^2-4ac & | \\sqrt{}\\\\\n",
    "2ax+b        &=& \\pm \\sqrt{b^2-4ac} & | -b\\\\\n",
    "2ax          &=& -b \\pm \\sqrt{b^2-4ac} & |/(2a) \\\\\n",
    "x            &=& {{-b \\pm \\sqrt{b^2-4ac}} \\over {2a}}\n",
    "\\end{array}\n",
    "$$"
   ]
  },
  {
   "cell_type": "markdown",
   "metadata": {},
   "source": [
    "## Beispiele"
   ]
  },
  {
   "cell_type": "code",
   "execution_count": 6,
   "metadata": {
    "collapsed": false
   },
   "outputs": [
    {
     "data": {
      "image/png": "[encoded data removed]",
      "text/plain": [
       "<matplotlib.figure.Figure at 0x11135d4e0>"
      ]
     },
     "metadata": {},
     "output_type": "display_data"
    }
   ],
   "source": [
    "import numpy as np\n",
    "import cmath\n",
    "import matplotlib.pyplot as plt\n",
    "# define functions\n",
    "x = np.linspace(-10,10,41)\n",
    "y1 = x**2 + 2*x - 35\n",
    "y2 = x**2 -4*x + 4\n",
    "y3 = x**2+12*x+37\n",
    "# plot functions\n",
    "plt.plot([-10,10],[0,0],linestyle='dashed',color='grey',linewidth=1)\n",
    "plt.plot(x,y1,linestyle='solid',color='red',linewidth=3,label='x$^2$+2x-35')\n",
    "plt.plot(x,y2,linestyle='solid',color='green',linewidth=3,label='x$^2$-4x+4')\n",
    "plt.plot(x,y3,linestyle='solid',color='blue',linewidth=3,label='x$^2$+12x+37')\n",
    "plt.legend()\n",
    "plt.show()"
   ]
  },
  {
   "cell_type": "code",
   "execution_count": null,
   "metadata": {
    "collapsed": true
   },
   "outputs": [],
   "source": []
  }
 ],
 "metadata": {
  "kernelspec": {
   "display_name": "Python 3",
   "language": "python",
   "name": "python3"
  },
  "language_info": {
   "codemirror_mode": {
    "name": "ipython",
    "version": 3
   },
   "file_extension": ".py",
   "mimetype": "text/x-python",
   "name": "python",
   "nbconvert_exporter": "python",
   "pygments_lexer": "ipython3",
   "version": "3.4.8"
  }
 },
 "nbformat": 4,
 "nbformat_minor": 0
}
