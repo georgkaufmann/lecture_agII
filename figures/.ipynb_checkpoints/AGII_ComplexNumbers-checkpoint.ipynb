{
 "cells": [
  {
   "cell_type": "markdown",
   "metadata": {},
   "source": [
    "# AGII: Komplexe Zahlen\n",
    "***"
   ]
  },
  {
   "cell_type": "markdown",
   "metadata": {},
   "source": [
    "# 1. Definition\n",
    "\n",
    "Was sind *komplexe Zahlen*?"
   ]
  },
  {
   "cell_type": "markdown",
   "metadata": {},
   "source": [
    "## Reelle Zahlen \n",
    "\n",
    "- Bisher kennen wir die *reellen Zahlen*, z.B. $1, -5, 1.234, 10^{11}, \\pi,\\sqrt{2}$"
   ]
  },
  {
   "cell_type": "markdown",
   "metadata": {},
   "source": [
    "Normalerweise gilt\n",
    "$$\n",
    "(-2) \\times (-2) = (-2)^2 = 4\n",
    "$$\n",
    "d.h. das Quadrat zweier negativer Zahlen ist positiv.\n",
    "\n",
    "Was wäre denn, wenn wir definieren wollen:\n",
    "$$ \n",
    "(-2)^2 = -4 \\longrightarrow \\sqrt{-2} = ?\n",
    "$$"
   ]
  },
  {
   "cell_type": "markdown",
   "metadata": {},
   "source": [
    "## Imaginäre Zahlen\n",
    "\n",
    "Wir definieren:\n",
    "$$\n",
    "i = \\sqrt{-1}\n",
    "$$\n",
    "als **imaginäre Einheit**. Es gilt also:\n",
    "$$\n",
    "i^2 = -1\n",
    "$$"
   ]
  },
  {
   "cell_type": "markdown",
   "metadata": {},
   "source": [
    "- Wir definieren *Imaginäre Zahlen*, sie liefern ein negatives Ergebnis, wenn sie quadriert werden, \n",
    "z.B. $3i, 1.23i, \\sqrt{2}i$.\n",
    "\n",
    "Das $i$ bedeutet, multipliziere die Zahl mit $\\sqrt{-1}$!"
   ]
  },
  {
   "cell_type": "markdown",
   "metadata": {},
   "source": [
    "## Komplexe Zahlen\n",
    "\n",
    "Eine reelle Zahl und eine imaginäre Zahl kombiniert ergibt eine *komplexe Zahl*, z.B.\n",
    "$1+i, -5+3i, 1.234 + 1.234i$"
   ]
  },
  {
   "cell_type": "markdown",
   "metadata": {},
   "source": [
    "# 2. Komplexe Ebene\n",
    "\n",
    "Eine komplexe Zahl können wir in der *komplexen Ebene* darstellen.\n",
    "<img src=cmplx_coord.jpg style=width:6cm>"
   ]
  },
  {
   "cell_type": "markdown",
   "metadata": {},
   "source": [
    "# 3. Operationen\n",
    "\n",
    "## Addition\n",
    "\n",
    "Beim addieren zweier komplexer Zahlen werden die Realteile und die Imaginärteile getrennt addiert:\n",
    "$$\n",
    "(a+bi) + (c+di) = (a+c) + (b+d)i\n",
    "$$"
   ]
  },
  {
   "cell_type": "markdown",
   "metadata": {},
   "source": [
    "Ein Beispiel:\n",
    "$$\n",
    "(2+2i) + (3+2i) = (2+3) + (2+2)i = 5+4i\n",
    "$$\n",
    "<img src=cmplx_add1.jpg style=width:6cm>"
   ]
  },
  {
   "cell_type": "markdown",
   "metadata": {},
   "source": [
    "Ein weiteres Beispiel:\n",
    "$$\n",
    "(2+2i) + (3-2i) = (2+3) + (2-2)i = 5\n",
    "$$\n",
    "<img src=cmplx_add2.jpg style=width:6cm>\n",
    "\n",
    "Bei der letzten Gleichung haben wir zwei komplexe Zahlen addiert, das Ergebnis aber ist eine reelle Zahl!"
   ]
  },
  {
   "cell_type": "markdown",
   "metadata": {},
   "source": [
    "## Multiplikation\n",
    "\n",
    "Beim Multiplizieren zweier komplexer Zahlen multiplizieren wir die beiden Terme aus:\n",
    "$$\n",
    "\\begin{array}{rcl}\n",
    "(a+bi) \\times (c+di) &=& ac + adi + bci + bdi^2 \\\\\n",
    "                     &=& (ac-bd) + (ad+bc)i\n",
    "\\end{array}\n",
    "$$\n",
    "\n"
   ]
  },
  {
   "cell_type": "markdown",
   "metadata": {},
   "source": [
    "Ein Beispiel:\n",
    "$$\n",
    "\\begin{array}{rcl}\n",
    "(3+2i) (1+1i) &=& (3 \\times 1 - 2 \\times 1) + (3 \\times 1 + 2 \\times 1)i \\\\\n",
    "              &=& (3-2) + (3+2)i \\\\\n",
    "              &=& 1+5i\n",
    "\\end{array}\n",
    "$$"
   ]
  },
  {
   "cell_type": "markdown",
   "metadata": {},
   "source": [
    "Ein weiteres Beispiel (mit $i$):\n",
    "$$\n",
    "\\begin{array}{rcl}\n",
    "i^2 = (0+1i)^2 &=& (0+1i)(0+1i) \\\\\n",
    "              &=& (0 \\times 0 - 1 \\times 1) + (0 \\times 1 + 1 \\times 0)i \\\\\n",
    "              &=& -1 + 0i \\\\\n",
    "              &=& -1\n",
    "\\end{array}\n",
    "$$"
   ]
  },
  {
   "cell_type": "markdown",
   "metadata": {},
   "source": [
    "Noch ein Beispiel:\n",
    "$$\n",
    "\\begin{array}{rcl}\n",
    "(3+3i) i &=& (3i + 3i^2) \\\\\n",
    "         &=& -3 + 3i\n",
    "\\end{array}\n",
    "$$\n",
    "und weiter ...\n",
    "$$\n",
    "\\begin{array}{rcl}\n",
    "(-3+3i) i &=& (-3i + 3i^2) \\\\\n",
    "          &=& -3 - 3i\n",
    "\\end{array}\n",
    "$$\n",
    "<img src=cmplx_mult.jpg style=width:6cm>\n",
    "\n",
    "Die Multiplikation mit $i$ dreht die komplexe Zahl im positiven Sinn im Koordinatensystem!"
   ]
  },
  {
   "cell_type": "markdown",
   "metadata": {},
   "source": [
    "## Konjugiert komplexe Zahlen"
   ]
  },
  {
   "cell_type": "markdown",
   "metadata": {},
   "source": [
    "---\n",
    "# 4. Euler-Gleichung"
   ]
  },
  {
   "cell_type": "markdown",
   "metadata": {},
   "source": [
    "Die *Euler*-Gleichung lautet:\n",
    "$$\n",
    "e^{i\\pi}+1=0\n",
    "$$\n",
    "Diese Gleichung kombiniert die\n",
    "- Euler'sche Zahl $e$\n",
    "- Die imaginäre Einheit $i$\n",
    "- Pi $\\pi$\n",
    "- Null und Eins: 0, 1\n",
    "\n",
    "Warum?"
   ]
  },
  {
   "cell_type": "markdown",
   "metadata": {},
   "source": [
    "Entwickle $e^x$ in eine *Taylor-Serie* am Punkt $x=0$:\n",
    "$$\n",
    "e^x = 1 + x + {{x^2} \\over {2!}} + {{x^3} \\over {3!}} + {{x^4} \\over {4!}} + {{x^5} \\over {5!}} + \\dots\n",
    "$$"
   ]
  },
  {
   "cell_type": "markdown",
   "metadata": {},
   "source": [
    "Ersetze den Exponenten $x$ durch $ix$:\n",
    "$$\n",
    "e^{ix} = 1 + {ix} + {{{(ix)}^2} \\over {2!}} + {{{(ix)}^3} \\over {3!}} + {{{(ix)}^4} \\over {4!}} + {{{(ix)}^5} \\over {5!}} + \\dots\n",
    "$$"
   ]
  },
  {
   "cell_type": "markdown",
   "metadata": {},
   "source": [
    "Wir nutzen die Definition der imaginären Einheit, $i^2=-1$, und es folgt\n",
    "$$\n",
    "e^{ix} = 1 + {ix} - {{x^2} \\over {2!}} + {{{(ix)}^3} \\over {3!}} + {{x^4} \\over {4!}} + {{{(ix)}^5} \\over {5!}} + \\dots\n",
    "$$"
   ]
  },
  {
   "cell_type": "markdown",
   "metadata": {},
   "source": [
    "Sortieren nach realen und komplexen Termen:\n",
    "$$\n",
    "e^{ix} = \\left( 1 - {{x^2} \\over {2!}} + {{x^4} \\over {4!}} - \\dots \\right) \n",
    "       + i \\left( x - {{x^3} \\over {3!}} + {{x^5} \\over {5!}} - \\dots \\right) \n",
    "$$"
   ]
  },
  {
   "cell_type": "markdown",
   "metadata": {},
   "source": [
    "Wir vergleichen die beiden Klammerausdrücke mit den *Taylor-Serien* von Sinus und Cosinus:\n",
    "$$\n",
    "\\begin{array}{rcl}\n",
    "\\cos x &=& \\left( 1 - {{x^2} \\over {2!}} + {{x^4} \\over {4!}} - \\dots \\right) \\\\\n",
    "\\sin x &=& \\left( x - {{x^3} \\over {3!}} + {{x^5} \\over {5!}} - \\dots \\right)\n",
    "\\end{array}\n",
    "$$"
   ]
  },
  {
   "cell_type": "markdown",
   "metadata": {},
   "source": [
    "Es folgt durch Einsetzen der trigonometrischen Terme:\n",
    "$$\n",
    "e^{ix} = \\cos x + i \\sin x\n",
    "$$"
   ]
  },
  {
   "cell_type": "markdown",
   "metadata": {},
   "source": [
    "Nutze $x=\\pi$:\n",
    "$$\n",
    "e^{i\\pi} = \\cos \\pi + i \\sin \\pi = -1\n",
    "$$\n",
    "et voila ...\n",
    "$$e^{i\\pi} + 1 = 0\n",
    "$$\n"
   ]
  }
 ],
 "metadata": {
  "kernelspec": {
   "display_name": "Python 3",
   "language": "python",
   "name": "python3"
  },
  "language_info": {
   "codemirror_mode": {
    "name": "ipython",
    "version": 3
   },
   "file_extension": ".py",
   "mimetype": "text/x-python",
   "name": "python",
   "nbconvert_exporter": "python",
   "pygments_lexer": "ipython3",
   "version": "3.4.8"
  }
 },
 "nbformat": 4,
 "nbformat_minor": 0
}
