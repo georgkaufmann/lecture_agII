{
 "cells": [
  {
   "cell_type": "markdown",
   "metadata": {},
   "source": [
    "# Quadratische Gleichungen\n",
    "***"
   ]
  },
  {
   "cell_type": "markdown",
   "metadata": {},
   "source": [
    "Eine *quadratische Gleichung* hat die Form:\n",
    "$$\n",
    "a x^2 + b x + c = 0\n",
    "$$\n",
    "mit $a$, $b$ und $c$ den Koeffizienten."
   ]
  },
  {
   "cell_type": "markdown",
   "metadata": {},
   "source": [
    "Dividieren wir die Gleichung durch $a$, folgt die *Normalenform*:\n",
    "$$\n",
    "x^2 + {b \\over a} x + {c \\over a} = 0\n",
    "$$"
   ]
  },
  {
   "cell_type": "markdown",
   "metadata": {},
   "source": [
    "## Zerlegung in Linearfaktoren\n",
    "\n",
    "Die *quadratische Gleichung* \n",
    "$$\n",
    "ax^2+bx+c=0\n",
    "$$\n",
    "kann in *Linearfaktoren* zerlegt werden:\n",
    "$$\n",
    "a (x-x_1) (x-x_2) = 0\n",
    "$$"
   ]
  },
  {
   "cell_type": "code",
   "execution_count": 8,
   "metadata": {
    "collapsed": true
   },
   "outputs": [],
   "source": [
    "%matplotlib inline"
   ]
  },
  {
   "cell_type": "code",
   "execution_count": 9,
   "metadata": {
    "collapsed": false
   },
   "outputs": [
    {
     "name": "stdout",
     "output_type": "stream",
     "text": [
      "det:  0.0\n"
     ]
    },
    {
     "data": {
      "image/png": "[encoded data removed]",
      "text/plain": [
       "<matplotlib.figure.Figure at 0x107489550>"
      ]
     },
     "metadata": {},
     "output_type": "display_data"
    }
   ],
   "source": [
    "import numpy as np\n",
    "import cmath\n",
    "import matplotlib.pyplot as plt\n",
    "# coefficients\n",
    "a = 1\n",
    "b = 0\n",
    "c = 0\n",
    "# calculate determinant\n",
    "det=np.sqrt(b**2-4*a*c)\n",
    "print ('det: ',det)\n",
    "x = np.linspace(-10,10,41)\n",
    "y1 = a*x**2 + b*x + c\n",
    "plt.plot([-10,10],[0,0],linestyle='dashed',color='grey',linewidth=1)\n",
    "plt.plot(x,y1,linestyle='solid',color='red',linewidth=4,label='y1')\n",
    "plt.show()"
   ]
  },
  {
   "cell_type": "markdown",
   "metadata": {},
   "source": [
    "Die Anzahl der Nullstellen kann durch die *Determinante* bestimmt werden.\n",
    "$$\n",
    "D=\\sqrt{b^2 - 4ac}\n",
    "$$\n",
    "\n",
    "Es gilt\n",
    "- $D>0$: Zwei reelle Nullstellen $x_1$ und $x_2$\n",
    "- $D=0$: Eine reelle Nullstelle $x_1$\n",
    "- $D<0$: Keine reelle Nullstelle (aber ...)"
   ]
  },
  {
   "cell_type": "markdown",
   "metadata": {},
   "source": [
    "Die Lösungen der quadratischen Gleichung lassen sich mit folgender Formel berechnen:\n",
    "$$\n",
    "x_{1,2} = {{-b \\pm \\sqrt{b^2 - 4ac}} \\over {2a}}\n",
    "$$"
   ]
  },
  {
   "cell_type": "code",
   "execution_count": 10,
   "metadata": {
    "collapsed": false
   },
   "outputs": [
    {
     "name": "stdout",
     "output_type": "stream",
     "text": [
      "Coefficients a,b,c:  1 0 -1\n",
      "Solutions x1/2:      1.0 -1.0\n"
     ]
    }
   ],
   "source": [
    "import numpy as np\n",
    "import cmath\n",
    "a = 1\n",
    "b = 0\n",
    "c = -1\n",
    "print ('Coefficients a,b,c: ',a,b,c)\n",
    "x1 = (-b+np.sqrt(b**2-4*a*c) / (2*a))\n",
    "x2 = (-b-np.sqrt(b**2-4*a*c) / (2*a))\n",
    "print ('Solutions x1/2:     ',x1,x2)\n"
   ]
  },
  {
   "cell_type": "markdown",
   "metadata": {},
   "source": [
    "Wie kommen wir auf die Lösungsformel?\n",
    "\n",
    "Starte mit der quadratischen Gleichung und ergänze, um eine binomische Formel zu bekommen:\n",
    "$$\n",
    "\\begin{array}{rcll}\n",
    "ax^2+bx+c    &=& 0      & | -c\\\\\n",
    "ax^2+bx      &=& -c     & |\\times 4a\\\\\n",
    "4a^2x^2+4abx &=& -4ac   & | +b^2 \\\\\n",
    "(2ax)^2 + 2 \\times 2abx + b^2 &=& b^2-4ac & | \\mbox{umformen auf bin. Formel}\\\\\n",
    "(2ax+b)^2    &=& b^2-4ac & | \\sqrt{}\\\\\n",
    "2ax+b        &=& \\pm \\sqrt{b^2-4ac} & | -b\\\\\n",
    "2ax          &=& -b \\pm \\sqrt{b^2-4ac} & |/(2a) \\\\\n",
    "x            &=& {{-b \\pm \\sqrt{b^2-4ac}} \\over {2a}}\n",
    "\\end{array}\n",
    "$$"
   ]
  },
  {
   "cell_type": "markdown",
   "metadata": {},
   "source": [
    "## Beispiele"
   ]
  },
  {
   "cell_type": "code",
   "execution_count": 11,
   "metadata": {
    "collapsed": false
   },
   "outputs": [
    {
     "data": {
      "image/png": "[encoded data removed]",
      "text/plain": [
       "<matplotlib.figure.Figure at 0x107452780>"
      ]
     },
     "metadata": {},
     "output_type": "display_data"
    }
   ],
   "source": [
    "import numpy as np\n",
    "import cmath\n",
    "import matplotlib.pyplot as plt\n",
    "# define functions\n",
    "x = np.linspace(-10,10,41)\n",
    "y1 = x**2 + 2*x - 35\n",
    "y2 = x**2 -4*x + 4\n",
    "y3 = x**2+12*x+37\n",
    "# plot functions\n",
    "plt.plot([-10,10],[0,0],linestyle='dashed',color='grey',linewidth=1)\n",
    "plt.plot(x,y1,linestyle='solid',color='red',linewidth=3,label='x$^2$+2x-35')\n",
    "plt.plot(x,y2,linestyle='solid',color='green',linewidth=3,label='x$^2$-4x+4')\n",
    "plt.plot(x,y3,linestyle='solid',color='blue',linewidth=3,label='x$^2$+12x+37')\n",
    "plt.legend()\n",
    "plt.show()"
   ]
  }
 ],
 "metadata": {
  "kernelspec": {
   "display_name": "Python 3",
   "language": "python",
   "name": "python3"
  },
  "language_info": {
   "codemirror_mode": {
    "name": "ipython",
    "version": 3
   },
   "file_extension": ".py",
   "mimetype": "text/x-python",
   "name": "python",
   "nbconvert_exporter": "python",
   "pygments_lexer": "ipython3",
   "version": "3.4.8"
  }
 },
 "nbformat": 4,
 "nbformat_minor": 0
}
